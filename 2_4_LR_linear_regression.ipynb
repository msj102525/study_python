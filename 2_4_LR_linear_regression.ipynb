{
  "nbformat": 4,
  "nbformat_minor": 0,
  "metadata": {
    "colab": {
      "provenance": [],
      "gpuType": "T4",
      "authorship_tag": "ABX9TyO4zCuaYFd/7C4mCZiyfupZ",
      "include_colab_link": true
    },
    "kernelspec": {
      "name": "python3",
      "display_name": "Python 3"
    },
    "language_info": {
      "name": "python"
    },
    "accelerator": "GPU"
  },
  "cells": [
    {
      "cell_type": "markdown",
      "metadata": {
        "id": "view-in-github",
        "colab_type": "text"
      },
      "source": [
        "<a href=\"https://colab.research.google.com/github/msj102525/study_python/blob/main/2_4_LR_linear_regression.ipynb\" target=\"_parent\"><img src=\"https://colab.research.google.com/assets/colab-badge.svg\" alt=\"Open In Colab\"/></a>"
      ]
    },
    {
      "cell_type": "markdown",
      "source": [
        "# **Linear Regression**\n",
        "- Linear Data\n",
        "- Linear Model\n",
        "\n",
        "**1. Import Requred Libraries**"
      ],
      "metadata": {
        "id": "aO5vmfDpMrTZ"
      }
    },
    {
      "cell_type": "code",
      "source": [
        "import numpy as np\n",
        "import torch\n",
        "import torch.nn as nn\n",
        "import torch.optim as optim\n",
        "import torch.nn.init as init\n",
        "from torch.autograd import Variable"
      ],
      "metadata": {
        "id": "13XWSTqgM3XI"
      },
      "execution_count": 1,
      "outputs": []
    },
    {
      "cell_type": "markdown",
      "source": [
        "# **2. Generate Data**"
      ],
      "metadata": {
        "id": "ye2q-OVIN29w"
      }
    },
    {
      "cell_type": "code",
      "source": [
        "num_data = 1000 # 데이터 갯수\n",
        "num_epoch = 1000 # 훈련횟수\n",
        "\n",
        "noise = init.normal(torch.FloatTensor(num_data, 1), std=1)\n",
        "x = init.uniform(torch.Tensor(num_data, 1), -10, 10)\n",
        "\n",
        "# y = wx + b => y = 2x + 3\n",
        "y = 2 * x + 3\n",
        "y_noise = 2 * x + 3 + noise\n",
        "\n",
        "x.size(), y.size()"
      ],
      "metadata": {
        "colab": {
          "base_uri": "https://localhost:8080/"
        },
        "id": "aO84gzoRN8Ma",
        "outputId": "438d6069-e821-4782-ddee-ee78b3a0e83c"
      },
      "execution_count": 2,
      "outputs": [
        {
          "output_type": "stream",
          "name": "stderr",
          "text": [
            "<ipython-input-2-fe1da1e600e5>:4: UserWarning: nn.init.normal is now deprecated in favor of nn.init.normal_.\n",
            "  noise = init.normal(torch.FloatTensor(num_data, 1), std=1)\n",
            "<ipython-input-2-fe1da1e600e5>:5: UserWarning: nn.init.uniform is now deprecated in favor of nn.init.uniform_.\n",
            "  x = init.uniform(torch.Tensor(num_data, 1), -10, 10)\n"
          ]
        },
        {
          "output_type": "execute_result",
          "data": {
            "text/plain": [
              "(torch.Size([1000, 1]), torch.Size([1000, 1]))"
            ]
          },
          "metadata": {},
          "execution_count": 2
        }
      ]
    },
    {
      "cell_type": "markdown",
      "source": [
        "# **3. Model & Optimizer**"
      ],
      "metadata": {
        "id": "5HQr_CDGP0TR"
      }
    },
    {
      "cell_type": "code",
      "source": [
        "# 단순 선형 회귀 생성 및 초기화\n",
        "# input_dim=1, output_dim=1\n",
        "model = nn.Linear(1, 1)\n",
        "output = model(Variable(x))\n",
        "\n",
        "loss_func = nn.MSELoss()\n",
        "optimizer = optim.SGD(model.parameters(), lr=0.01)\n",
        "# lr (Learning Rate) : 미분값을 얼마만큼 이동시킬 것인지를 결정\n",
        "# 최적화 알고리즘 : loss 를 줄이는 알고리즘\n",
        "# SGD : loss 의 미분을 이용해서 loss 의 최소값을 찾는 알고리즘에 해당"
      ],
      "metadata": {
        "id": "Pd30FuAcP_PX"
      },
      "execution_count": 14,
      "outputs": []
    },
    {
      "cell_type": "markdown",
      "source": [
        "# **4. Training**"
      ],
      "metadata": {
        "id": "r96rZKn4TZ_4"
      }
    },
    {
      "cell_type": "code",
      "source": [
        "loss_arr = []\n",
        "label = Variable(y_noise)\n",
        "for i in range(num_epoch):\n",
        "  optimizer.zero_grad()\n",
        "  output = model(Variable(x))\n",
        "\n",
        "  loss = loss_func(output, label)\n",
        "  optimizer.step()\n",
        "\n",
        "  if i % 10 == 0:\n",
        "    print(loss)\n",
        "\n",
        "  loss_arr.append(loss.data.numpy())"
      ],
      "metadata": {
        "colab": {
          "base_uri": "https://localhost:8080/"
        },
        "id": "v7iv3gaATeHM",
        "outputId": "72f7d0f5-ebb5-407d-810e-bac79d18a63c"
      },
      "execution_count": 15,
      "outputs": [
        {
          "output_type": "stream",
          "name": "stdout",
          "text": [
            "tensor(143.8363, grad_fn=<MseLossBackward0>)\n",
            "tensor(143.8363, grad_fn=<MseLossBackward0>)\n",
            "tensor(143.8363, grad_fn=<MseLossBackward0>)\n",
            "tensor(143.8363, grad_fn=<MseLossBackward0>)\n",
            "tensor(143.8363, grad_fn=<MseLossBackward0>)\n",
            "tensor(143.8363, grad_fn=<MseLossBackward0>)\n",
            "tensor(143.8363, grad_fn=<MseLossBackward0>)\n",
            "tensor(143.8363, grad_fn=<MseLossBackward0>)\n",
            "tensor(143.8363, grad_fn=<MseLossBackward0>)\n",
            "tensor(143.8363, grad_fn=<MseLossBackward0>)\n",
            "tensor(143.8363, grad_fn=<MseLossBackward0>)\n",
            "tensor(143.8363, grad_fn=<MseLossBackward0>)\n",
            "tensor(143.8363, grad_fn=<MseLossBackward0>)\n",
            "tensor(143.8363, grad_fn=<MseLossBackward0>)\n",
            "tensor(143.8363, grad_fn=<MseLossBackward0>)\n",
            "tensor(143.8363, grad_fn=<MseLossBackward0>)\n",
            "tensor(143.8363, grad_fn=<MseLossBackward0>)\n",
            "tensor(143.8363, grad_fn=<MseLossBackward0>)\n",
            "tensor(143.8363, grad_fn=<MseLossBackward0>)\n",
            "tensor(143.8363, grad_fn=<MseLossBackward0>)\n",
            "tensor(143.8363, grad_fn=<MseLossBackward0>)\n",
            "tensor(143.8363, grad_fn=<MseLossBackward0>)\n",
            "tensor(143.8363, grad_fn=<MseLossBackward0>)\n",
            "tensor(143.8363, grad_fn=<MseLossBackward0>)\n",
            "tensor(143.8363, grad_fn=<MseLossBackward0>)\n",
            "tensor(143.8363, grad_fn=<MseLossBackward0>)\n",
            "tensor(143.8363, grad_fn=<MseLossBackward0>)\n",
            "tensor(143.8363, grad_fn=<MseLossBackward0>)\n",
            "tensor(143.8363, grad_fn=<MseLossBackward0>)\n",
            "tensor(143.8363, grad_fn=<MseLossBackward0>)\n",
            "tensor(143.8363, grad_fn=<MseLossBackward0>)\n",
            "tensor(143.8363, grad_fn=<MseLossBackward0>)\n",
            "tensor(143.8363, grad_fn=<MseLossBackward0>)\n",
            "tensor(143.8363, grad_fn=<MseLossBackward0>)\n",
            "tensor(143.8363, grad_fn=<MseLossBackward0>)\n",
            "tensor(143.8363, grad_fn=<MseLossBackward0>)\n",
            "tensor(143.8363, grad_fn=<MseLossBackward0>)\n",
            "tensor(143.8363, grad_fn=<MseLossBackward0>)\n",
            "tensor(143.8363, grad_fn=<MseLossBackward0>)\n",
            "tensor(143.8363, grad_fn=<MseLossBackward0>)\n",
            "tensor(143.8363, grad_fn=<MseLossBackward0>)\n",
            "tensor(143.8363, grad_fn=<MseLossBackward0>)\n",
            "tensor(143.8363, grad_fn=<MseLossBackward0>)\n",
            "tensor(143.8363, grad_fn=<MseLossBackward0>)\n",
            "tensor(143.8363, grad_fn=<MseLossBackward0>)\n",
            "tensor(143.8363, grad_fn=<MseLossBackward0>)\n",
            "tensor(143.8363, grad_fn=<MseLossBackward0>)\n",
            "tensor(143.8363, grad_fn=<MseLossBackward0>)\n",
            "tensor(143.8363, grad_fn=<MseLossBackward0>)\n",
            "tensor(143.8363, grad_fn=<MseLossBackward0>)\n",
            "tensor(143.8363, grad_fn=<MseLossBackward0>)\n",
            "tensor(143.8363, grad_fn=<MseLossBackward0>)\n",
            "tensor(143.8363, grad_fn=<MseLossBackward0>)\n",
            "tensor(143.8363, grad_fn=<MseLossBackward0>)\n",
            "tensor(143.8363, grad_fn=<MseLossBackward0>)\n",
            "tensor(143.8363, grad_fn=<MseLossBackward0>)\n",
            "tensor(143.8363, grad_fn=<MseLossBackward0>)\n",
            "tensor(143.8363, grad_fn=<MseLossBackward0>)\n",
            "tensor(143.8363, grad_fn=<MseLossBackward0>)\n",
            "tensor(143.8363, grad_fn=<MseLossBackward0>)\n",
            "tensor(143.8363, grad_fn=<MseLossBackward0>)\n",
            "tensor(143.8363, grad_fn=<MseLossBackward0>)\n",
            "tensor(143.8363, grad_fn=<MseLossBackward0>)\n",
            "tensor(143.8363, grad_fn=<MseLossBackward0>)\n",
            "tensor(143.8363, grad_fn=<MseLossBackward0>)\n",
            "tensor(143.8363, grad_fn=<MseLossBackward0>)\n",
            "tensor(143.8363, grad_fn=<MseLossBackward0>)\n",
            "tensor(143.8363, grad_fn=<MseLossBackward0>)\n",
            "tensor(143.8363, grad_fn=<MseLossBackward0>)\n",
            "tensor(143.8363, grad_fn=<MseLossBackward0>)\n",
            "tensor(143.8363, grad_fn=<MseLossBackward0>)\n",
            "tensor(143.8363, grad_fn=<MseLossBackward0>)\n",
            "tensor(143.8363, grad_fn=<MseLossBackward0>)\n",
            "tensor(143.8363, grad_fn=<MseLossBackward0>)\n",
            "tensor(143.8363, grad_fn=<MseLossBackward0>)\n",
            "tensor(143.8363, grad_fn=<MseLossBackward0>)\n",
            "tensor(143.8363, grad_fn=<MseLossBackward0>)\n",
            "tensor(143.8363, grad_fn=<MseLossBackward0>)\n",
            "tensor(143.8363, grad_fn=<MseLossBackward0>)\n",
            "tensor(143.8363, grad_fn=<MseLossBackward0>)\n",
            "tensor(143.8363, grad_fn=<MseLossBackward0>)\n",
            "tensor(143.8363, grad_fn=<MseLossBackward0>)\n",
            "tensor(143.8363, grad_fn=<MseLossBackward0>)\n",
            "tensor(143.8363, grad_fn=<MseLossBackward0>)\n",
            "tensor(143.8363, grad_fn=<MseLossBackward0>)\n",
            "tensor(143.8363, grad_fn=<MseLossBackward0>)\n",
            "tensor(143.8363, grad_fn=<MseLossBackward0>)\n",
            "tensor(143.8363, grad_fn=<MseLossBackward0>)\n",
            "tensor(143.8363, grad_fn=<MseLossBackward0>)\n",
            "tensor(143.8363, grad_fn=<MseLossBackward0>)\n",
            "tensor(143.8363, grad_fn=<MseLossBackward0>)\n",
            "tensor(143.8363, grad_fn=<MseLossBackward0>)\n",
            "tensor(143.8363, grad_fn=<MseLossBackward0>)\n",
            "tensor(143.8363, grad_fn=<MseLossBackward0>)\n",
            "tensor(143.8363, grad_fn=<MseLossBackward0>)\n",
            "tensor(143.8363, grad_fn=<MseLossBackward0>)\n",
            "tensor(143.8363, grad_fn=<MseLossBackward0>)\n",
            "tensor(143.8363, grad_fn=<MseLossBackward0>)\n",
            "tensor(143.8363, grad_fn=<MseLossBackward0>)\n",
            "tensor(143.8363, grad_fn=<MseLossBackward0>)\n"
          ]
        }
      ]
    },
    {
      "cell_type": "markdown",
      "source": [
        "# **visdom usage**"
      ],
      "metadata": {
        "id": "qxjUSLw7YGvp"
      }
    },
    {
      "cell_type": "code",
      "source": [
        "! pip3 install visdom\n",
        "\n",
        "! npm install -g localtunnel\n",
        "get_ipython().system_raw('/usr/local/bin/python -m pip install visdom')\n",
        "get_ipython().system_raw('/usr/local/bin/python -m visdom.server -port 6006 >> visdomlog.txt 2>&1 &')\n",
        "get_ipython().system_raw('lt --port 6006 >> url.txt 2>&1 &')\n",
        "\n",
        "import time\n",
        "time.sleep(5)\n",
        "! cat url.txt\n",
        "\n",
        "import visdom\n",
        "time.sleep(5)\n",
        "vis = visdom.Visdom(port='6006')\n",
        "print(vis)\n",
        "time.sleep(3)\n",
        "vis.text('testing')\n",
        "! cat visdomlog.txt\n",
        "# 아래 출력 메세지의 Your url is 부분의 url 클릭함\n",
        "# 나타난 웹 페이지의 'click countinue' 버튼 클릭함"
      ],
      "metadata": {
        "colab": {
          "base_uri": "https://localhost:8080/"
        },
        "id": "hlTWdgkGYLXo",
        "outputId": "905f8c0f-74c3-41ee-cc9c-8256f7b71a68"
      },
      "execution_count": 3,
      "outputs": [
        {
          "output_type": "stream",
          "name": "stdout",
          "text": [
            "Collecting visdom\n",
            "  Downloading visdom-0.2.4.tar.gz (1.4 MB)\n",
            "\u001b[2K     \u001b[90m━━━━━━━━━━━━━━━━━━━━━━━━━━━━━━━━━━━━━━━━\u001b[0m \u001b[32m1.4/1.4 MB\u001b[0m \u001b[31m5.8 MB/s\u001b[0m eta \u001b[36m0:00:00\u001b[0m\n",
            "\u001b[?25h  Preparing metadata (setup.py) ... \u001b[?25l\u001b[?25hdone\n",
            "Requirement already satisfied: numpy>=1.8 in /usr/local/lib/python3.10/dist-packages (from visdom) (1.25.2)\n",
            "Requirement already satisfied: scipy in /usr/local/lib/python3.10/dist-packages (from visdom) (1.11.4)\n",
            "Requirement already satisfied: requests in /usr/local/lib/python3.10/dist-packages (from visdom) (2.31.0)\n",
            "Requirement already satisfied: tornado in /usr/local/lib/python3.10/dist-packages (from visdom) (6.3.3)\n",
            "Requirement already satisfied: six in /usr/local/lib/python3.10/dist-packages (from visdom) (1.16.0)\n",
            "Collecting jsonpatch (from visdom)\n",
            "  Downloading jsonpatch-1.33-py2.py3-none-any.whl (12 kB)\n",
            "Requirement already satisfied: websocket-client in /usr/local/lib/python3.10/dist-packages (from visdom) (1.8.0)\n",
            "Requirement already satisfied: networkx in /usr/local/lib/python3.10/dist-packages (from visdom) (3.3)\n",
            "Requirement already satisfied: pillow in /usr/local/lib/python3.10/dist-packages (from visdom) (9.4.0)\n",
            "Collecting jsonpointer>=1.9 (from jsonpatch->visdom)\n",
            "  Downloading jsonpointer-2.4-py2.py3-none-any.whl (7.8 kB)\n",
            "Requirement already satisfied: charset-normalizer<4,>=2 in /usr/local/lib/python3.10/dist-packages (from requests->visdom) (3.3.2)\n",
            "Requirement already satisfied: idna<4,>=2.5 in /usr/local/lib/python3.10/dist-packages (from requests->visdom) (3.7)\n",
            "Requirement already satisfied: urllib3<3,>=1.21.1 in /usr/local/lib/python3.10/dist-packages (from requests->visdom) (2.0.7)\n",
            "Requirement already satisfied: certifi>=2017.4.17 in /usr/local/lib/python3.10/dist-packages (from requests->visdom) (2024.2.2)\n",
            "Building wheels for collected packages: visdom\n",
            "  Building wheel for visdom (setup.py) ... \u001b[?25l\u001b[?25hdone\n",
            "  Created wheel for visdom: filename=visdom-0.2.4-py3-none-any.whl size=1408195 sha256=72927865a7e94ae8bd8811b523663c84eff521abcd6cb3cb79f5d5374c935913\n",
            "  Stored in directory: /root/.cache/pip/wheels/42/29/49/5bed207bac4578e4d2c0c5fc0226bfd33a7e2953ea56356855\n",
            "Successfully built visdom\n",
            "Installing collected packages: jsonpointer, jsonpatch, visdom\n",
            "Successfully installed jsonpatch-1.33 jsonpointer-2.4 visdom-0.2.4\n",
            "\u001b[K\u001b[?25h/tools/node/bin/lt -> /tools/node/lib/node_modules/localtunnel/bin/lt.js\n",
            "\u001b[K\u001b[?25h+ localtunnel@2.0.2\n",
            "added 22 packages from 22 contributors in 2.054s\n",
            "your url is: https://loud-buses-scream.loca.lt\n"
          ]
        },
        {
          "output_type": "stream",
          "name": "stderr",
          "text": [
            "WARNING:visdom:Setting up a new session...\n"
          ]
        },
        {
          "output_type": "stream",
          "name": "stdout",
          "text": [
            "<visdom.Visdom object at 0x7f2d17a82c20>\n",
            "INFO:root:Application Started\n",
            "INFO:root:Working directory: /root/.visdom\n",
            "INFO:tornado.access:200 POST /env/main (127.0.0.1) 0.63ms\n",
            "INFO:tornado.access:101 GET /vis_socket (127.0.0.1) 0.54ms\n",
            "INFO:root:Opened visdom socket from ip: 127.0.0.1\n",
            "INFO:tornado.access:200 POST /events (127.0.0.1) 0.63ms\n"
          ]
        }
      ]
    },
    {
      "cell_type": "code",
      "source": [
        "import urllib\n",
        "print(\"Password/Enpoint IP for localtunnel is:\",urllib.request.urlopen('https://ipv4.icanhazip.com').read().decode('utf8').strip(\"\\n\"))"
      ],
      "metadata": {
        "colab": {
          "base_uri": "https://localhost:8080/"
        },
        "id": "7HLP5pLDZKL6",
        "outputId": "2f3ba9c2-666d-4d6d-94e4-f79199a0c978"
      },
      "execution_count": 4,
      "outputs": [
        {
          "output_type": "stream",
          "name": "stdout",
          "text": [
            "Password/Enpoint IP for localtunnel is: 34.171.101.218\n"
          ]
        }
      ]
    },
    {
      "cell_type": "code",
      "source": [
        "textwindow = vis.text(\"Hello Pytorch\")\n",
        "textwindow"
      ],
      "metadata": {
        "colab": {
          "base_uri": "https://localhost:8080/",
          "height": 35
        },
        "id": "OojFsUvGbneC",
        "outputId": "a8bc3f83-f400-47e2-ccc0-c72ff1cb3f6a"
      },
      "execution_count": null,
      "outputs": [
        {
          "output_type": "execute_result",
          "data": {
            "text/plain": [
              "'window_3d005e597252c0'"
            ],
            "application/vnd.google.colaboratory.intrinsic+json": {
              "type": "string"
            }
          },
          "metadata": {},
          "execution_count": 15
        }
      ]
    },
    {
      "cell_type": "markdown",
      "source": [
        "# **visualize data with visdom**\n"
      ],
      "metadata": {
        "id": "5qgeQGMhJ2D0"
      }
    },
    {
      "cell_type": "code",
      "source": [
        "input_data = torch.cat([x, y_noise], 1)\n",
        "\n",
        "win = vis.scatter(\n",
        "    X = input_data,\n",
        "    opts = dict(\n",
        "        xtickmin = -10,\n",
        "        xtickmax = 10,\n",
        "        xtickstep = 1,\n",
        "        ytickmin = -20,\n",
        "        ytickmax = 20,\n",
        "        ytickstep = 1,\n",
        "        markersymbol = 'dot',\n",
        "        makersize = 5,\n",
        "        markercolor = np.random.randint(0, 255, num_data)\n",
        "    ),\n",
        ")"
      ],
      "metadata": {
        "id": "0js_zByDJ6DF"
      },
      "execution_count": 8,
      "outputs": []
    },
    {
      "cell_type": "markdown",
      "source": [
        "# **5. Check Trained Parameters**"
      ],
      "metadata": {
        "id": "Hk2pqPpgLq2M"
      }
    },
    {
      "cell_type": "code",
      "source": [
        "param_list = list(model.parameters())\n",
        "print(param_list[0].data, param_list[1].data)"
      ],
      "metadata": {
        "colab": {
          "base_uri": "https://localhost:8080/"
        },
        "id": "3jJ3UqIyL1La",
        "outputId": "6b5a7607-5346-49ee-96c0-9b5af2d04fc9"
      },
      "execution_count": 17,
      "outputs": [
        {
          "output_type": "stream",
          "name": "stdout",
          "text": [
            "tensor([[-0.0530]]) tensor([0.9557])\n"
          ]
        }
      ]
    },
    {
      "cell_type": "markdown",
      "source": [
        "# **6. Visualize output**"
      ],
      "metadata": {
        "id": "OKtqRdhrMRpr"
      }
    },
    {
      "cell_type": "code",
      "source": [
        "vis.line(\n",
        "    X = x.reshape(x.shape[0]),\n",
        "    Y = output.data.reshape(output.data.shape[0]),\n",
        "    win = win,\n",
        "    opts = dict(\n",
        "        xtickmin = -15,\n",
        "        xtickmax=10,\n",
        "        xtictstep = 1,\n",
        "        ytickmin = -300,\n",
        "        ytickmax = 200,\n",
        "        ytickstep = 1,\n",
        "        markersymbol = 'dot'\n",
        "    ),\n",
        ")"
      ],
      "metadata": {
        "colab": {
          "base_uri": "https://localhost:8080/",
          "height": 35
        },
        "id": "nlJ3yr8dMcnD",
        "outputId": "0563dee8-4f51-4376-dd5e-cebb7dccd42a"
      },
      "execution_count": 18,
      "outputs": [
        {
          "output_type": "execute_result",
          "data": {
            "text/plain": [
              "'window_3d01184d782d5e'"
            ],
            "application/vnd.google.colaboratory.intrinsic+json": {
              "type": "string"
            }
          },
          "metadata": {},
          "execution_count": 18
        }
      ]
    },
    {
      "cell_type": "markdown",
      "source": [
        "# **7. Visualize Loss Graph**"
      ],
      "metadata": {
        "id": "2Ycg2WwEN8-z"
      }
    },
    {
      "cell_type": "code",
      "source": [
        "x = np.reshape([i for i in range(num_epoch)], newshape=[num_epoch, 1])\n",
        "loss_data = np.reshape(loss_arr, newshape=[num_epoch, 1])\n",
        "\n",
        "win_3 = vis.line(\n",
        "    X = x.reshape(x.shape[0]),\n",
        "    Y = loss_data.reshape(loss_data.shape[0]),\n",
        ")\n"
      ],
      "metadata": {
        "id": "mD6VK0hoOAre"
      },
      "execution_count": 21,
      "outputs": []
    },
    {
      "cell_type": "code",
      "source": [],
      "metadata": {
        "id": "FXcuDy7_Okak"
      },
      "execution_count": null,
      "outputs": []
    }
  ]
}