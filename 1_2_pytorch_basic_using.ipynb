{
  "nbformat": 4,
  "nbformat_minor": 0,
  "metadata": {
    "colab": {
      "provenance": [],
      "gpuType": "T4",
      "authorship_tag": "ABX9TyPM1vwaQz5OyvyL9uA6lPNA",
      "include_colab_link": true
    },
    "kernelspec": {
      "name": "python3",
      "display_name": "Python 3"
    },
    "language_info": {
      "name": "python"
    },
    "accelerator": "GPU"
  },
  "cells": [
    {
      "cell_type": "markdown",
      "metadata": {
        "id": "view-in-github",
        "colab_type": "text"
      },
      "source": [
        "<a href=\"https://colab.research.google.com/github/msj102525/study_python/blob/main/1_2_pytorch_basic_using.ipynb\" target=\"_parent\"><img src=\"https://colab.research.google.com/assets/colab-badge.svg\" alt=\"Open In Colab\"/></a>"
      ]
    },
    {
      "cell_type": "markdown",
      "source": [
        "# Pytorch Tensor Basic Usage\n",
        "\n",
        "- Create Tensor\n",
        "- indexing, Joining, Slicing\n",
        "- Initialization\n",
        "- Math Operations"
      ],
      "metadata": {
        "id": "pD6_fsxqWXOm"
      }
    },
    {
      "cell_type": "code",
      "execution_count": 3,
      "metadata": {
        "colab": {
          "base_uri": "https://localhost:8080/"
        },
        "id": "Yhhtr7L2V_YK",
        "outputId": "514027c3-13ba-4aa0-d912-7f3bb42d43ba"
      },
      "outputs": [
        {
          "output_type": "execute_result",
          "data": {
            "text/plain": [
              "tensor([[0.4461, 0.3566, 0.1225],\n",
              "        [0.4108, 0.3746, 0.8097]])"
            ]
          },
          "metadata": {},
          "execution_count": 3
        }
      ],
      "source": [
        "# 1. Create Tensor\n",
        "# 1) random numbers\n",
        "import torch\n",
        "\n",
        "# torch.rand(sizes) --> (0, 1) 사이의 실수형 값을 랜덤값으로 발생함\n",
        "# sizes : 1차원갯수, 2차원 행렬갯수 등 지정\n",
        "# 0과 1사이의 실수형 숫자를 균등하게 생성\n",
        "x = torch.rand(2, 3)\n",
        "x\n"
      ]
    },
    {
      "cell_type": "code",
      "source": [
        "# torch.randn(sizes) --> Z(0, 1)\n",
        "# 평균이 0이고 표준편차가 1인 가우시안 정규분포를 이용해서 생성\n",
        "x = torch.randn(2, 3)\n",
        "x"
      ],
      "metadata": {
        "colab": {
          "base_uri": "https://localhost:8080/"
        },
        "id": "L_gXMVEDYabN",
        "outputId": "4028205a-dacc-46dd-c824-92f676f70c08"
      },
      "execution_count": null,
      "outputs": [
        {
          "output_type": "execute_result",
          "data": {
            "text/plain": [
              "tensor([[ 0.8167,  0.3060, -1.3034],\n",
              "        [ 0.7403, -2.2853, -1.6381]])"
            ]
          },
          "metadata": {},
          "execution_count": 24
        }
      ]
    },
    {
      "cell_type": "code",
      "source": [
        "# torch.randperm(n) --> permutation of 0 ~ n\n",
        "x = torch.randperm(5)\n",
        "# x"
      ],
      "metadata": {
        "colab": {
          "base_uri": "https://localhost:8080/"
        },
        "id": "jQdsWza7ZBTm",
        "outputId": "4d109800-5ff3-4692-9e06-ecce6ef79dd6"
      },
      "execution_count": null,
      "outputs": [
        {
          "output_type": "execute_result",
          "data": {
            "text/plain": [
              "tensor([2, 1, 4, 0, 3])"
            ]
          },
          "metadata": {},
          "execution_count": 19
        }
      ]
    },
    {
      "cell_type": "markdown",
      "source": [
        "# ** torch 에서 랜덤값으로 텐서 생성 **\n",
        "1. torch.rand() : 0과 1사이의 숫자를 균등하게 생성\n",
        "2. torch.rand_like() : 사이즈를 튜플로 입력하지 않고 기존의 텐서로 정의\n",
        "3. torch.randn() : 평균이 0이고 표준편차가 1인 가우시안 정규분포를 이용해서 생성\n",
        "4. torch.randn_like() : 기존의 텐서를 사용해서 같은 텐서를 생성\n",
        "5. torch.randint() : 주어진 범위 내의 정수를 균등하게 생성하는 함\n",
        "6. torch.randint_like() : 텐서 이용, 같은 텐서 생성\n",
        "7. torch.randperm() : 주어진 범위 내의 정수를 랜덤하게 생성"
      ],
      "metadata": {
        "id": "EtySLNpOZju1"
      }
    },
    {
      "cell_type": "markdown",
      "source": [
        "# 3) **Tensor Data Type**"
      ],
      "metadata": {
        "id": "XzPjEhtfziuD"
      }
    },
    {
      "cell_type": "code",
      "source": [
        "# torch.FloatTensor(size or list)\n",
        "x = torch.FloatTensor(2, 3) # size\n",
        "x"
      ],
      "metadata": {
        "colab": {
          "base_uri": "https://localhost:8080/"
        },
        "id": "Uta7ehlEztPM",
        "outputId": "471ceb36-5189-4ea8-de88-0b9aff00b123"
      },
      "execution_count": 4,
      "outputs": [
        {
          "output_type": "execute_result",
          "data": {
            "text/plain": [
              "tensor([[2.8026e-45, 0.0000e+00, 3.6969e-19],\n",
              "        [4.3262e-41, 0.0000e+00, 1.9866e-36]])"
            ]
          },
          "metadata": {},
          "execution_count": 4
        }
      ]
    },
    {
      "cell_type": "code",
      "source": [
        "x = torch.FloatTensor([12, 35])\n",
        "x"
      ],
      "metadata": {
        "colab": {
          "base_uri": "https://localhost:8080/"
        },
        "id": "whNYOMnl0BGt",
        "outputId": "7bdff904-aeec-41ab-8c69-24a7a347ce5d"
      },
      "execution_count": 5,
      "outputs": [
        {
          "output_type": "execute_result",
          "data": {
            "text/plain": [
              "tensor([12., 35.])"
            ]
          },
          "metadata": {},
          "execution_count": 5
        }
      ]
    },
    {
      "cell_type": "code",
      "source": [
        "# tensor.type_as(tesnor_type)\n",
        "# 기존 텐서의 값의 자료형을 바꿀 때 사용\n",
        "x = x.type_as(torch.IntTensor())\n",
        "x"
      ],
      "metadata": {
        "colab": {
          "base_uri": "https://localhost:8080/"
        },
        "id": "N56ISBRe0Vel",
        "outputId": "09e28de3-7c78-4e07-8e89-cc2a5bb28dca"
      },
      "execution_count": 6,
      "outputs": [
        {
          "output_type": "execute_result",
          "data": {
            "text/plain": [
              "tensor([12, 35], dtype=torch.int32)"
            ]
          },
          "metadata": {},
          "execution_count": 6
        }
      ]
    },
    {
      "cell_type": "markdown",
      "source": [
        "# **4) Numpy to Tensor, Tensor to Numpy**"
      ],
      "metadata": {
        "id": "D9pVi2UM0zT9"
      }
    },
    {
      "cell_type": "code",
      "source": [
        "import numpy as np\n",
        "\n",
        "# torch.from_numpy(ndarrayy) --> Tensor\n",
        "x1 = np.ndarray(shape=(2, 3), dtype=int, buffer=np.array([1, 2, 3, 4, 5, 6]))\n",
        "x2 = torch.from_numpy(x1)\n",
        "x1, x2"
      ],
      "metadata": {
        "colab": {
          "base_uri": "https://localhost:8080/"
        },
        "id": "1GLX5gki0_dT",
        "outputId": "eb5001b0-f8c7-4e79-fe74-7016e3657b53"
      },
      "execution_count": 11,
      "outputs": [
        {
          "output_type": "execute_result",
          "data": {
            "text/plain": [
              "(array([[1, 2, 3],\n",
              "        [4, 5, 6]]),\n",
              " tensor([[1, 2, 3],\n",
              "         [4, 5, 6]]))"
            ]
          },
          "metadata": {},
          "execution_count": 11
        }
      ]
    },
    {
      "cell_type": "code",
      "source": [
        "# torch.numpy() --> ndarray\n",
        "x3 = x2.numpy()\n",
        "x3"
      ],
      "metadata": {
        "colab": {
          "base_uri": "https://localhost:8080/"
        },
        "id": "zn80Lufp2AQN",
        "outputId": "b96a5df3-37be-472c-c924-a3988abb9b68"
      },
      "execution_count": 12,
      "outputs": [
        {
          "output_type": "execute_result",
          "data": {
            "text/plain": [
              "array([[1, 2, 3],\n",
              "       [4, 5, 6]])"
            ]
          },
          "metadata": {},
          "execution_count": 12
        }
      ]
    },
    {
      "cell_type": "markdown",
      "source": [
        "# **5) Tensor on CPU & GPU**"
      ],
      "metadata": {
        "id": "5jkGbbv_2SRm"
      }
    },
    {
      "cell_type": "code",
      "source": [
        "x = torch.FloatTensor([[1, 2, 3], [4, 5, 6]])\n",
        "x"
      ],
      "metadata": {
        "colab": {
          "base_uri": "https://localhost:8080/"
        },
        "id": "gdVMYRQm2a_1",
        "outputId": "3677f21e-7660-4462-b605-70d2d93ff396"
      },
      "execution_count": 13,
      "outputs": [
        {
          "output_type": "execute_result",
          "data": {
            "text/plain": [
              "tensor([[1., 2., 3.],\n",
              "        [4., 5., 6.]])"
            ]
          },
          "metadata": {},
          "execution_count": 13
        }
      ]
    },
    {
      "cell_type": "code",
      "source": [
        "x_gpu = x.cuda()\n",
        "x_gpu"
      ],
      "metadata": {
        "colab": {
          "base_uri": "https://localhost:8080/"
        },
        "id": "pMMhs7ka2p6d",
        "outputId": "acc0058d-ccbb-40d7-abb2-4607a7b2b379"
      },
      "execution_count": 14,
      "outputs": [
        {
          "output_type": "execute_result",
          "data": {
            "text/plain": [
              "tensor([[1., 2., 3.],\n",
              "        [4., 5., 6.]], device='cuda:0')"
            ]
          },
          "metadata": {},
          "execution_count": 14
        }
      ]
    },
    {
      "cell_type": "markdown",
      "source": [
        "# **6) Tensor size**"
      ],
      "metadata": {
        "id": "f8sVDifS29bU"
      }
    },
    {
      "cell_type": "code",
      "source": [
        "# tensor.size() --> 인덱스값\n",
        "x = torch.FloatTensor(10, 12, 3, 3)\n",
        "x.size()[:]"
      ],
      "metadata": {
        "colab": {
          "base_uri": "https://localhost:8080/"
        },
        "id": "zeItXxq33E9U",
        "outputId": "a8bb9d5e-76b0-495a-97df-a0eef1eb51c8"
      },
      "execution_count": 18,
      "outputs": [
        {
          "output_type": "execute_result",
          "data": {
            "text/plain": [
              "torch.Size([10, 12, 3, 3])"
            ]
          },
          "metadata": {},
          "execution_count": 18
        }
      ]
    },
    {
      "cell_type": "markdown",
      "source": [
        "# **2. Indexing, Slicing, Joining**\n",
        "**1) Indexing**"
      ],
      "metadata": {
        "id": "qM7UMX5S3rVe"
      }
    },
    {
      "cell_type": "code",
      "source": [
        "# torch.index_select(input, dim, index)\n",
        "x = torch.rand(4, 3)\n",
        "out = torch.index_select(x, 0, torch.LongTensor([0, 3]))\n",
        "\n",
        "x, out"
      ],
      "metadata": {
        "colab": {
          "base_uri": "https://localhost:8080/"
        },
        "id": "kJjYJkFd37ec",
        "outputId": "0230ab4e-fbdc-48e8-bc4b-7e362c262db1"
      },
      "execution_count": 19,
      "outputs": [
        {
          "output_type": "execute_result",
          "data": {
            "text/plain": [
              "(tensor([[0.9312, 0.2000, 0.8091],\n",
              "         [0.8856, 0.3209, 0.8152],\n",
              "         [0.2108, 0.9687, 0.6061],\n",
              "         [0.8718, 0.1120, 0.1571]]),\n",
              " tensor([[0.9312, 0.2000, 0.8091],\n",
              "         [0.8718, 0.1120, 0.1571]]))"
            ]
          },
          "metadata": {},
          "execution_count": 19
        }
      ]
    },
    {
      "cell_type": "code",
      "source": [
        "# python indexing 사용 가능\n",
        "x[:, 0], x[0, :], x[0:2, 0:2]"
      ],
      "metadata": {
        "colab": {
          "base_uri": "https://localhost:8080/"
        },
        "id": "rtkMtf_C4xIW",
        "outputId": "d14d9f22-c20c-4023-fbe8-2c6a0c1c3173"
      },
      "execution_count": 20,
      "outputs": [
        {
          "output_type": "execute_result",
          "data": {
            "text/plain": [
              "(tensor([0.9312, 0.8856, 0.2108, 0.8718]),\n",
              " tensor([0.9312, 0.2000, 0.8091]),\n",
              " tensor([[0.9312, 0.2000],\n",
              "         [0.8856, 0.3209]]))"
            ]
          },
          "metadata": {},
          "execution_count": 20
        }
      ]
    },
    {
      "cell_type": "code",
      "source": [
        "# torch.masked_select(input, mask)\n",
        "x = torch.randn(2, 3)\n",
        "mask = torch.BoolTensor([[0, 0, 1], [0, 1, 0]])\n",
        "out = torch.masked_select(x, mask)\n",
        "\n",
        "x, mask, out"
      ],
      "metadata": {
        "colab": {
          "base_uri": "https://localhost:8080/"
        },
        "id": "IpbNN6dN5Yby",
        "outputId": "e5ec69e8-d171-42b0-8ffd-29b065c3719f"
      },
      "execution_count": 22,
      "outputs": [
        {
          "output_type": "execute_result",
          "data": {
            "text/plain": [
              "(tensor([[-0.2548, -0.7212,  0.6541],\n",
              "         [ 1.6908, -0.1872, -0.2761]]),\n",
              " tensor([[False, False,  True],\n",
              "         [False,  True, False]]),\n",
              " tensor([ 0.6541, -0.1872]))"
            ]
          },
          "metadata": {},
          "execution_count": 22
        }
      ]
    },
    {
      "cell_type": "markdown",
      "source": [
        "# **2) Joining**"
      ],
      "metadata": {
        "id": "u6EmpqCU6r9d"
      }
    },
    {
      "cell_type": "code",
      "source": [
        "# torch.cat(seq, dim=0)\n",
        "x = torch.FloatTensor([[1, 2, 3], [4, 5, 6]])\n",
        "y = torch.FloatTensor([[-1, -2, -3], [-4, -5, -6]])\n",
        "z1 = torch.cat([x, y], dim=0) # dim=0 (행), 아래에 합쳐짐\n",
        "z2 = torch.cat([x, y], dim=1) # dim=1 (열), 오른쪽에 합쳐짐\n",
        "\n",
        "x. y. z1. z2"
      ],
      "metadata": {
        "colab": {
          "base_uri": "https://localhost:8080/",
          "height": 184
        },
        "id": "uDw6qnDx6vy_",
        "outputId": "9f83100b-eb2b-45cb-e8f1-0684465cda63"
      },
      "execution_count": 27,
      "outputs": [
        {
          "output_type": "error",
          "ename": "AttributeError",
          "evalue": "'Tensor' object has no attribute 'y'",
          "traceback": [
            "\u001b[0;31m---------------------------------------------------------------------------\u001b[0m",
            "\u001b[0;31mAttributeError\u001b[0m                            Traceback (most recent call last)",
            "\u001b[0;32m<ipython-input-27-38b910eba2df>\u001b[0m in \u001b[0;36m<cell line: 7>\u001b[0;34m()\u001b[0m\n\u001b[1;32m      5\u001b[0m \u001b[0mz2\u001b[0m \u001b[0;34m=\u001b[0m \u001b[0mtorch\u001b[0m\u001b[0;34m.\u001b[0m\u001b[0mcat\u001b[0m\u001b[0;34m(\u001b[0m\u001b[0;34m[\u001b[0m\u001b[0mx\u001b[0m\u001b[0;34m,\u001b[0m \u001b[0my\u001b[0m\u001b[0;34m]\u001b[0m\u001b[0;34m,\u001b[0m \u001b[0mdim\u001b[0m\u001b[0;34m=\u001b[0m\u001b[0;36m1\u001b[0m\u001b[0;34m)\u001b[0m \u001b[0;31m# dim=1 (열), 오른쪽에 합쳐짐\u001b[0m\u001b[0;34m\u001b[0m\u001b[0;34m\u001b[0m\u001b[0m\n\u001b[1;32m      6\u001b[0m \u001b[0;34m\u001b[0m\u001b[0m\n\u001b[0;32m----> 7\u001b[0;31m \u001b[0mx\u001b[0m\u001b[0;34m.\u001b[0m \u001b[0my\u001b[0m\u001b[0;34m.\u001b[0m \u001b[0mz1\u001b[0m\u001b[0;34m.\u001b[0m \u001b[0mz2\u001b[0m\u001b[0;34m\u001b[0m\u001b[0;34m\u001b[0m\u001b[0m\n\u001b[0m",
            "\u001b[0;31mAttributeError\u001b[0m: 'Tensor' object has no attribute 'y'"
          ]
        }
      ]
    },
    {
      "cell_type": "code",
      "source": [
        "# torch.stack(sequence, dim=0) --> 새로운 차원으로 추가\n",
        "x = torch.FloatTensor([[1, 2, 3], [4, 5, 6]]) # (2, 3) shape\n",
        "x_stack = torch.stack([x, x, x, x], dim=0)  # (4, 2, 3) shape\n",
        "\n",
        "x_stack"
      ],
      "metadata": {
        "colab": {
          "base_uri": "https://localhost:8080/"
        },
        "id": "LQl8bvvG_q4k",
        "outputId": "c4ad3b1d-46b7-400a-cff7-ad81184a63f2"
      },
      "execution_count": 25,
      "outputs": [
        {
          "output_type": "execute_result",
          "data": {
            "text/plain": [
              "tensor([[[1., 2., 3.],\n",
              "         [4., 5., 6.]],\n",
              "\n",
              "        [[1., 2., 3.],\n",
              "         [4., 5., 6.]],\n",
              "\n",
              "        [[1., 2., 3.],\n",
              "         [4., 5., 6.]],\n",
              "\n",
              "        [[1., 2., 3.],\n",
              "         [4., 5., 6.]]])"
            ]
          },
          "metadata": {},
          "execution_count": 25
        }
      ]
    },
    {
      "cell_type": "markdown",
      "source": [
        "# **3) Slicing**"
      ],
      "metadata": {
        "id": "Ui-nuIRxAh72"
      }
    },
    {
      "cell_type": "code",
      "source": [
        "# torch.chunk(tensor, chunks, dim=0)\n",
        "x_1, x_2 = torch.chunk(z1, 2, dim=0)  # dim=0 이면 행을 2개로 분할\n",
        "x_1, x_2"
      ],
      "metadata": {
        "colab": {
          "base_uri": "https://localhost:8080/"
        },
        "id": "pn9_rcfyAl9b",
        "outputId": "f5802b2e-b38c-40eb-dc70-dedcdaf84d10"
      },
      "execution_count": 28,
      "outputs": [
        {
          "output_type": "execute_result",
          "data": {
            "text/plain": [
              "(tensor([[1., 2., 3.],\n",
              "         [4., 5., 6.]]),\n",
              " tensor([[-1., -2., -3.],\n",
              "         [-4., -5., -6.]]))"
            ]
          },
          "metadata": {},
          "execution_count": 28
        }
      ]
    },
    {
      "cell_type": "code",
      "source": [
        "y_1, y_2, y_3 = torch.chunk(z1, 3, dim=1)  # dim=1 이면 열을 3개로 분할\n",
        "y_1, y_2, y_3"
      ],
      "metadata": {
        "id": "wl_BzLqEBW8O"
      },
      "execution_count": null,
      "outputs": []
    },
    {
      "cell_type": "code",
      "source": [
        "# torch.split(tensor, split_size, dim=0)\n",
        "x1, x2 = torch.split(z1, 2, dim=0)\n",
        "y1 = torch.split(z1, 2, dim=1)  # 3개 열을 2개로 분리한 경우\n",
        "\n",
        "z1, x1, x2, y1"
      ],
      "metadata": {
        "colab": {
          "base_uri": "https://localhost:8080/"
        },
        "id": "cAjvb4aFBwNO",
        "outputId": "92a4ea73-f5f2-40f0-ea1b-210a8943c349"
      },
      "execution_count": 29,
      "outputs": [
        {
          "output_type": "execute_result",
          "data": {
            "text/plain": [
              "(tensor([[ 1.,  2.,  3.],\n",
              "         [ 4.,  5.,  6.],\n",
              "         [-1., -2., -3.],\n",
              "         [-4., -5., -6.]]),\n",
              " tensor([[1., 2., 3.],\n",
              "         [4., 5., 6.]]),\n",
              " tensor([[-1., -2., -3.],\n",
              "         [-4., -5., -6.]]),\n",
              " (tensor([[ 1.,  2.],\n",
              "          [ 4.,  5.],\n",
              "          [-1., -2.],\n",
              "          [-4., -5.]]),\n",
              "  tensor([[ 3.],\n",
              "          [ 6.],\n",
              "          [-3.],\n",
              "          [-6.]])))"
            ]
          },
          "metadata": {},
          "execution_count": 29
        }
      ]
    },
    {
      "cell_type": "markdown",
      "source": [
        "# **4) squeezing**"
      ],
      "metadata": {
        "id": "k7IOn1ZlCfsm"
      }
    },
    {
      "cell_type": "code",
      "source": [
        "# torch.squeeze(input, dim=None) # 숫자가 1인 차원을 제거\n",
        "\n",
        "x1 = torch.FloatTensor(10, 1, 3, 14)\n",
        "# 차원(dimension) 의 개념\n",
        "# 10 : batch size (데이터 한 묶음당 들어있는 데이터(x, y)쌍의 갯수)\n",
        "# 1 : channel size\n",
        "# 3 : with image size\n",
        "# 14 : height image size\n",
        "\n",
        "x2 = torch.squeeze(x1)\n",
        "\n",
        "x1.size(), x2.size()"
      ],
      "metadata": {
        "colab": {
          "base_uri": "https://localhost:8080/"
        },
        "id": "Np7R-KosCjqy",
        "outputId": "15976b9b-4b79-4d44-8690-f24e01349b90"
      },
      "execution_count": 30,
      "outputs": [
        {
          "output_type": "execute_result",
          "data": {
            "text/plain": [
              "(torch.Size([10, 1, 3, 14]), torch.Size([10, 3, 14]))"
            ]
          },
          "metadata": {},
          "execution_count": 30
        }
      ]
    },
    {
      "cell_type": "code",
      "source": [
        "# torch.unsqueeze(input, dim=None) # 숫자가 1인 차원을 추가\n",
        "x1 = torch.FloatTensor(10, 3, 4)\n",
        "x2 = torch.unsqueeze(x1, dim=0) # dim=0 이면 첫번쨰 위치에 추가\n",
        "\n",
        "x1.size(), x2.size()"
      ],
      "metadata": {
        "colab": {
          "base_uri": "https://localhost:8080/"
        },
        "id": "WwaTQ_UaDz8l",
        "outputId": "b8d95dcb-96c1-47ba-e650-406efd6acc87"
      },
      "execution_count": 31,
      "outputs": [
        {
          "output_type": "execute_result",
          "data": {
            "text/plain": [
              "(torch.Size([10, 3, 4]), torch.Size([1, 10, 3, 4]))"
            ]
          },
          "metadata": {},
          "execution_count": 31
        }
      ]
    },
    {
      "cell_type": "markdown",
      "source": [
        "# **3. Initialization**"
      ],
      "metadata": {
        "id": "eMS7v7RGEZk_"
      }
    },
    {
      "cell_type": "code",
      "source": [
        "import torch.nn.init as init\n",
        "\n",
        "x1 = init.uniform(torch.FloatTensor(3, 4), a=0, b=9) # a에서 b사이의 값으로 초기\n",
        "x2 = init.normal(torch.FloatTensor(3, 4), std=0.2)  # 표준편차가 0.2 적용 초기화\n",
        "x3 = init.constant(torch.FloatTensor(3, 4), 3.145)  # 지정된 상수값으로 초기화\n",
        "\n",
        "x1, x2, x3"
      ],
      "metadata": {
        "colab": {
          "base_uri": "https://localhost:8080/"
        },
        "id": "Dx-T1bD8EdAb",
        "outputId": "aa51d0a7-ddbf-4fd4-a50e-ec10abc01bb2"
      },
      "execution_count": 33,
      "outputs": [
        {
          "output_type": "stream",
          "name": "stderr",
          "text": [
            "<ipython-input-33-f8c383e478f3>:3: UserWarning: nn.init.uniform is now deprecated in favor of nn.init.uniform_.\n",
            "  x1 = init.uniform(torch.FloatTensor(3, 4), a=0, b=9) # a에서 b사이의 값으로 초기\n",
            "<ipython-input-33-f8c383e478f3>:4: UserWarning: nn.init.normal is now deprecated in favor of nn.init.normal_.\n",
            "  x2 = init.normal(torch.FloatTensor(3, 4), std=0.2)  # 표준편차가 0.2 적용 초기화\n",
            "<ipython-input-33-f8c383e478f3>:5: UserWarning: nn.init.constant is now deprecated in favor of nn.init.constant_.\n",
            "  x3 = init.constant(torch.FloatTensor(3, 4), 3.145)  # 지정된 상수값으로 초기화\n"
          ]
        },
        {
          "output_type": "execute_result",
          "data": {
            "text/plain": [
              "(tensor([[2.0789, 6.5818, 4.2441, 8.8385],\n",
              "         [6.1116, 8.6031, 5.3566, 2.4016],\n",
              "         [0.9752, 3.0204, 6.0628, 6.8317]]),\n",
              " tensor([[ 0.2068, -0.0634, -0.4715,  0.0893],\n",
              "         [-0.2528, -0.0414, -0.1046,  0.3241],\n",
              "         [-0.2236, -0.2810,  0.0310,  0.1597]]),\n",
              " tensor([[3.1450, 3.1450, 3.1450, 3.1450],\n",
              "         [3.1450, 3.1450, 3.1450, 3.1450],\n",
              "         [3.1450, 3.1450, 3.1450, 3.1450]]))"
            ]
          },
          "metadata": {},
          "execution_count": 33
        }
      ]
    },
    {
      "cell_type": "markdown",
      "source": [
        "# **4.Math Operations**\n",
        "**1) Arithmetic operations**"
      ],
      "metadata": {
        "id": "jrUCkFpYGAJn"
      }
    },
    {
      "cell_type": "code",
      "source": [
        "# torch.add()\n",
        "x1 = torch.FloatTensor([[1, 2, 3], [4, 5, 6]])\n",
        "x2 = torch.FloatTensor([[1, 2, 3], [4, 5, 6]])\n",
        "add = torch.add(x1, x2)\n",
        "x1, x2, add, x1 + x2"
      ],
      "metadata": {
        "colab": {
          "base_uri": "https://localhost:8080/"
        },
        "id": "_S-hrvdcGLYG",
        "outputId": "82cf5c6c-6b0c-40d0-ebcb-e2f300340dc9"
      },
      "execution_count": 40,
      "outputs": [
        {
          "output_type": "execute_result",
          "data": {
            "text/plain": [
              "(tensor([[1., 2., 3.],\n",
              "         [4., 5., 6.]]),\n",
              " tensor([[1., 2., 3.],\n",
              "         [4., 5., 6.]]),\n",
              " tensor([[ 2.,  4.,  6.],\n",
              "         [ 8., 10., 12.]]),\n",
              " tensor([[ 2.,  4.,  6.],\n",
              "         [ 8., 10., 12.]]))"
            ]
          },
          "metadata": {},
          "execution_count": 40
        }
      ]
    },
    {
      "cell_type": "code",
      "source": [
        "x1 = torch.FloatTensor([[1, 2, 3], [4, 5, 6]])\n",
        "x2 = torch.add(x1, 10)\n",
        "x1, x2, x1 + 10, x1 - 10"
      ],
      "metadata": {
        "colab": {
          "base_uri": "https://localhost:8080/"
        },
        "id": "7kz87Z_bG-zI",
        "outputId": "aef0e2a4-a348-4806-d9e7-83c1846702da"
      },
      "execution_count": 39,
      "outputs": [
        {
          "output_type": "execute_result",
          "data": {
            "text/plain": [
              "(tensor([[1., 2., 3.],\n",
              "         [4., 5., 6.]]),\n",
              " tensor([[11., 12., 13.],\n",
              "         [14., 15., 16.]]),\n",
              " tensor([[11., 12., 13.],\n",
              "         [14., 15., 16.]]),\n",
              " tensor([[-9., -8., -7.],\n",
              "         [-6., -5., -4.]]))"
            ]
          },
          "metadata": {},
          "execution_count": 39
        }
      ]
    },
    {
      "cell_type": "code",
      "source": [
        "# touch.mul() 곱하기\n",
        "x1 = torch.FloatTensor([[1, 2, 3], [4, 5, 6]])\n",
        "x2 = torch.FloatTensor([[1, 2, 3], [4, 5, 6]])\n",
        "x3 = torch.mul(x1, x2)\n",
        "x3, x1 * x2"
      ],
      "metadata": {
        "colab": {
          "base_uri": "https://localhost:8080/"
        },
        "id": "ZNWPiGwDHZvp",
        "outputId": "a8d594bd-c926-449d-c850-b989a802258b"
      },
      "execution_count": 42,
      "outputs": [
        {
          "output_type": "execute_result",
          "data": {
            "text/plain": [
              "(tensor([[ 1.,  4.,  9.],\n",
              "         [16., 25., 36.]]),\n",
              " tensor([[ 1.,  4.,  9.],\n",
              "         [16., 25., 36.]]))"
            ]
          },
          "metadata": {},
          "execution_count": 42
        }
      ]
    },
    {
      "cell_type": "code",
      "source": [
        "# touch.div() 나누기\n",
        "x1 = torch.FloatTensor([[1, 2, 3], [4, 5, 6]])\n",
        "x2 = torch.div(x1, 5)\n",
        "x1, x2, x1 / 5"
      ],
      "metadata": {
        "colab": {
          "base_uri": "https://localhost:8080/"
        },
        "id": "WVrbZxcYHqoe",
        "outputId": "69c4ed28-6adc-453d-d2b8-3a38740631fe"
      },
      "execution_count": 44,
      "outputs": [
        {
          "output_type": "execute_result",
          "data": {
            "text/plain": [
              "(tensor([[1., 2., 3.],\n",
              "         [4., 5., 6.]]),\n",
              " tensor([[0.2000, 0.4000, 0.6000],\n",
              "         [0.8000, 1.0000, 1.2000]]),\n",
              " tensor([[0.2000, 0.4000, 0.6000],\n",
              "         [0.8000, 1.0000, 1.2000]]))"
            ]
          },
          "metadata": {},
          "execution_count": 44
        }
      ]
    },
    {
      "cell_type": "markdown",
      "source": [
        "# **2) Other Math Operations**"
      ],
      "metadata": {
        "id": "TyMlPIqjII63"
      }
    },
    {
      "cell_type": "code",
      "source": [
        "# torch.pow(input, exponent)\n",
        "x1 = torch.FloatTensor(3, 4)\n",
        "\n",
        "x1, torch.pow(x1, 2), x1 ** 2"
      ],
      "metadata": {
        "colab": {
          "base_uri": "https://localhost:8080/"
        },
        "id": "5dJG1QHVIOfh",
        "outputId": "3c74645d-f6eb-4570-ac61-73b6c63c4bfc"
      },
      "execution_count": 45,
      "outputs": [
        {
          "output_type": "execute_result",
          "data": {
            "text/plain": [
              "(tensor([[ 9.7801e-12,  4.3262e-41,  9.7801e-12,  4.3262e-41],\n",
              "         [ 4.4842e-44,  0.0000e+00,  1.5695e-43,  0.0000e+00],\n",
              "         [-6.3210e+08,  7.0065e-45,  9.1477e-41,  1.1771e-43]]),\n",
              " tensor([[9.5650e-23, 0.0000e+00, 9.5650e-23, 0.0000e+00],\n",
              "         [0.0000e+00, 0.0000e+00, 0.0000e+00, 0.0000e+00],\n",
              "         [3.9955e+17, 0.0000e+00, 0.0000e+00, 0.0000e+00]]),\n",
              " tensor([[9.5650e-23, 0.0000e+00, 9.5650e-23, 0.0000e+00],\n",
              "         [0.0000e+00, 0.0000e+00, 0.0000e+00, 0.0000e+00],\n",
              "         [3.9955e+17, 0.0000e+00, 0.0000e+00, 0.0000e+00]]))"
            ]
          },
          "metadata": {},
          "execution_count": 45
        }
      ]
    },
    {
      "cell_type": "code",
      "source": [
        "# torch.exp(tensor, out=None)\n",
        "x1 = torch.FloatTensor(3, 4)\n",
        "out = torch.exp(x1)\n",
        "\n",
        "x1, out"
      ],
      "metadata": {
        "colab": {
          "base_uri": "https://localhost:8080/"
        },
        "id": "Fiw4c9cXInbX",
        "outputId": "4b1e41ad-cb07-49e2-8f39-578807b72ac9"
      },
      "execution_count": 46,
      "outputs": [
        {
          "output_type": "execute_result",
          "data": {
            "text/plain": [
              "(tensor([[9.7800e-12, 4.3262e-41, 9.7800e-12, 4.3262e-41],\n",
              "         [2.3321e+26, 3.3319e-41, 9.7800e-12, 4.3262e-41],\n",
              "         [1.7301e+22, 3.3319e-41, 2.7334e+26, 3.3319e-41]]),\n",
              " tensor([[1., 1., 1., 1.],\n",
              "         [inf, 1., 1., 1.],\n",
              "         [inf, 1., inf, 1.]]))"
            ]
          },
          "metadata": {},
          "execution_count": 46
        }
      ]
    },
    {
      "cell_type": "code",
      "source": [
        "# torch.log(input, out=None) 자연로그 계산\n",
        "x1 = torch.FloatTensor(3, 4)\n",
        "out = torch.log(x1)\n",
        "\n",
        "x1, out"
      ],
      "metadata": {
        "colab": {
          "base_uri": "https://localhost:8080/"
        },
        "id": "2cjVVBtsI9mA",
        "outputId": "a266d2bf-930a-40a5-dbf9-42d1ef01a430"
      },
      "execution_count": 47,
      "outputs": [
        {
          "output_type": "execute_result",
          "data": {
            "text/plain": [
              "(tensor([[0.0000e+00, 0.0000e+00, 2.4564e+26, 3.3319e-41],\n",
              "         [2.7135e+21, 3.3319e-41, 5.7263e-13, 4.3261e-41],\n",
              "         [0.0000e+00, 0.0000e+00, 0.0000e+00, 0.0000e+00]]),\n",
              " tensor([[    -inf,     -inf,  60.7659, -93.2025],\n",
              "         [ 49.3525, -93.2025, -28.1885, -92.9413],\n",
              "         [    -inf,     -inf,     -inf,     -inf]]))"
            ]
          },
          "metadata": {},
          "execution_count": 47
        }
      ]
    },
    {
      "cell_type": "markdown",
      "source": [
        "# **3) Matrix operation**"
      ],
      "metadata": {
        "id": "-n-lSNbIJZv_"
      }
    },
    {
      "cell_type": "code",
      "source": [
        "# torch.mm(mat1, mat2) --> matrix multiplication (행렬곱)\n",
        "x1 = torch.FloatTensor(3, 4)\n",
        "x2 = torch.FloatTensor(4, 5)\n",
        "out = torch.mm(x1, x2)\n",
        "\n",
        "x1, x2, out"
      ],
      "metadata": {
        "colab": {
          "base_uri": "https://localhost:8080/"
        },
        "id": "uK2sMxm6JdTt",
        "outputId": "26ad75ac-a884-45e4-c2df-37c58609bb9a"
      },
      "execution_count": 48,
      "outputs": [
        {
          "output_type": "execute_result",
          "data": {
            "text/plain": [
              "(tensor([[ 9.7801e-12,  4.3262e-41,  2.3386e+26,  3.3319e-41],\n",
              "         [ 4.4842e-44,  0.0000e+00,  8.9683e-44,  0.0000e+00],\n",
              "         [-1.8720e-16,  3.3323e-41,  0.0000e+00,  1.1755e-38]]),\n",
              " tensor([[-6.3060e+08,  7.0065e-45,  1.0930e-43,  0.0000e+00,  0.0000e+00],\n",
              "         [ 0.0000e+00,  0.0000e+00,  0.0000e+00,  0.0000e+00,  7.2076e+31],\n",
              "         [ 7.7052e+31,  1.9447e+31,  2.1715e-18,  2.3081e-12,  1.8590e+34],\n",
              "         [ 7.7767e+31,  1.7181e+19,  1.8990e+28,  1.5766e-19,  1.4587e-19]]),\n",
              " tensor([[       inf,        inf, 5.0781e+08, 5.3977e+14,        inf],\n",
              "         [6.9103e-12, 1.7441e-12, 0.0000e+00, 0.0000e+00, 1.6672e-09],\n",
              "         [1.0322e-06, 2.0196e-19, 2.2322e-10, 0.0000e+00, 2.4018e-09]]))"
            ]
          },
          "metadata": {},
          "execution_count": 48
        }
      ]
    },
    {
      "cell_type": "code",
      "source": [
        "# torch.bmm(batch1, batch2) --> batch 행렬곱 연산\n",
        "# 맨 앞의 batch 는 차원을 유지하면서, 뒤 요소들의 행렬곱 연산\n",
        "\n",
        "x1 = torch.FloatTensor(10, 3, 4)\n",
        "x2 = torch.FloatTensor(10, 4, 5)\n",
        "out = torch.bmm(x1, x2)\n",
        "\n",
        "out.size()"
      ],
      "metadata": {
        "colab": {
          "base_uri": "https://localhost:8080/"
        },
        "id": "WHxkp-AbNkNN",
        "outputId": "b4f92ea3-f1cd-40ca-fd37-70aed166502f"
      },
      "execution_count": 49,
      "outputs": [
        {
          "output_type": "execute_result",
          "data": {
            "text/plain": [
              "torch.Size([10, 3, 5])"
            ]
          },
          "metadata": {},
          "execution_count": 49
        }
      ]
    },
    {
      "cell_type": "code",
      "source": [
        "# torch.dot(tesnor1, tensor2) : 백터의 내적을 구함\n",
        "\n",
        "x1 = torch.FloatTensor([1, 2, 3, 4])\n",
        "x2 = torch.FloatTensor([2, 3, 4, 5])\n",
        "\n",
        "torch.dot(x1, x2)"
      ],
      "metadata": {
        "colab": {
          "base_uri": "https://localhost:8080/"
        },
        "id": "9u5BcnXOORmg",
        "outputId": "ab9954ae-3b2b-4f0a-ba55-76d2891d288f"
      },
      "execution_count": 50,
      "outputs": [
        {
          "output_type": "execute_result",
          "data": {
            "text/plain": [
              "tensor(40.)"
            ]
          },
          "metadata": {},
          "execution_count": 50
        }
      ]
    },
    {
      "cell_type": "code",
      "source": [
        "# torch.t(matrix) : transposed matrix (텐서의 전치 연산)\n",
        "# 행과 열을 바꿈\n",
        "\n",
        "x1 = torch.FloatTensor(3, 4)\n",
        "\n",
        "x1, x1.t()\n",
        "\n"
      ],
      "metadata": {
        "colab": {
          "base_uri": "https://localhost:8080/"
        },
        "id": "p9_rpBqZO68y",
        "outputId": "de7992d7-61b1-42f4-d761-63990c88bdab"
      },
      "execution_count": 51,
      "outputs": [
        {
          "output_type": "execute_result",
          "data": {
            "text/plain": [
              "(tensor([[9.7801e-12, 4.3262e-41, 2.4026e+26, 3.3319e-41],\n",
              "         [2.6914e+26, 3.3319e-41, 0.0000e+00, 0.0000e+00],\n",
              "         [0.0000e+00, 0.0000e+00, 2.6918e+26, 3.3319e-41]]),\n",
              " tensor([[9.7801e-12, 2.6914e+26, 0.0000e+00],\n",
              "         [4.3262e-41, 3.3319e-41, 0.0000e+00],\n",
              "         [2.4026e+26, 0.0000e+00, 2.6918e+26],\n",
              "         [3.3319e-41, 0.0000e+00, 3.3319e-41]]))"
            ]
          },
          "metadata": {},
          "execution_count": 51
        }
      ]
    },
    {
      "cell_type": "code",
      "source": [
        "# torch.transpose(input, dim_0, dim_1)\n",
        "# 바꿀 차원을 2개 지정함\n",
        "# 텐서의 내부 차원간 바꾸기\n",
        "\n",
        "x1 = torch.FloatTensor(10, 3, 4)\n",
        "\n",
        "# 1차원과 2차원을 서로 바꿈\n",
        "x1.size(), torch.transpose(x1, 1, 2).size(), x1.transpose(1, 2).size()"
      ],
      "metadata": {
        "colab": {
          "base_uri": "https://localhost:8080/"
        },
        "id": "YC_Iyd0IPbvT",
        "outputId": "7f8f7f69-9cd4-4b8b-cded-f9becf649b44"
      },
      "execution_count": 52,
      "outputs": [
        {
          "output_type": "execute_result",
          "data": {
            "text/plain": [
              "(torch.Size([10, 3, 4]), torch.Size([10, 4, 3]), torch.Size([10, 4, 3]))"
            ]
          },
          "metadata": {},
          "execution_count": 52
        }
      ]
    },
    {
      "cell_type": "code",
      "source": [
        "# torch.eig(input, eigenvectors=Flase)\n",
        "# 고유값(eigen_value), 고유벡터(eigen_vector) 반환\n",
        "x1 = torch.FloatTensor(4, 4)\n",
        "\n",
        "import torch.linalg as linalg\n",
        "x1, torch.linalg.eig(x1)"
      ],
      "metadata": {
        "colab": {
          "base_uri": "https://localhost:8080/"
        },
        "id": "b5S4bpy1QQ2I",
        "outputId": "fa7ac2a4-8dcb-4ce5-9799-2c6e3cd9d00e"
      },
      "execution_count": 59,
      "outputs": [
        {
          "output_type": "execute_result",
          "data": {
            "text/plain": [
              "(tensor([[2.1707e-18, 7.0952e+22, 1.7748e+28, 1.8176e+31],\n",
              "         [7.2708e+31, 5.0778e+31, 3.2608e-12, 1.7728e+28],\n",
              "         [7.0367e+22, 2.1715e-18, 6.7996e+22, 1.3236e-08],\n",
              "         [6.8000e+22, 1.0488e-08, 4.1340e-05, 1.2812e-11]]),\n",
              " torch.return_types.linalg_eig(\n",
              " eigenvalues=tensor([ 5.0778e+31+0.j, -1.1105e+27+0.j,  1.1126e+27+0.j,  4.6152e+22+0.j]),\n",
              " eigenvectors=tensor([[ 1.4035e-09+0.j,  5.7122e-01+0.j,  5.7323e-01+0.j,  1.5237e-01+0.j],\n",
              "         [ 1.0000e+00+0.j, -8.2080e-01+0.j, -8.1940e-01+0.j, -2.9457e-01+0.j],\n",
              "         [-1.5137e-15+0.j, -3.3236e-05+0.j,  3.9224e-05+0.j, -9.4340e-01+0.j],\n",
              "         [-7.2974e-17+0.j, -3.4911e-05+0.j,  3.5101e-05+0.j,  9.2117e-04+0.j]])))"
            ]
          },
          "metadata": {},
          "execution_count": 59
        }
      ]
    },
    {
      "cell_type": "code",
      "source": [],
      "metadata": {
        "id": "fzymYUvARPkw"
      },
      "execution_count": null,
      "outputs": []
    }
  ]
}