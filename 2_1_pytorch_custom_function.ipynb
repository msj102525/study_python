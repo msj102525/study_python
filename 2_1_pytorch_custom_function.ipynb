{
  "nbformat": 4,
  "nbformat_minor": 0,
  "metadata": {
    "colab": {
      "provenance": [],
      "authorship_tag": "ABX9TyP6PYUsnB1+WZDRWYdGRv46",
      "include_colab_link": true
    },
    "kernelspec": {
      "name": "python3",
      "display_name": "Python 3"
    },
    "language_info": {
      "name": "python"
    }
  },
  "cells": [
    {
      "cell_type": "markdown",
      "metadata": {
        "id": "view-in-github",
        "colab_type": "text"
      },
      "source": [
        "<a href=\"https://colab.research.google.com/github/msj102525/study_python/blob/main/2_1_pytorch_custom_function.ipynb\" target=\"_parent\"><img src=\"https://colab.research.google.com/assets/colab-badge.svg\" alt=\"Open In Colab\"/></a>"
      ]
    },
    {
      "cell_type": "code",
      "execution_count": 1,
      "metadata": {
        "id": "SeIW6pQYRwbM"
      },
      "outputs": [],
      "source": [
        "# 새노트 > 런타임 : GPU 지정\n",
        "# 세션 새로 시작시, pytorch\n",
        "# !pip3 install torch\n",
        "# !pip3 install torchvision"
      ]
    },
    {
      "cell_type": "code",
      "source": [
        "import torch\n",
        "import torch.nn as nn\n",
        "from torch.autograd import Variable, Function"
      ],
      "metadata": {
        "id": "ZDebp2i9Six3"
      },
      "execution_count": 1,
      "outputs": []
    },
    {
      "cell_type": "code",
      "source": [
        "# torch.autograd.Function 클래스가 제공하는 함수 목록확인\n",
        "for i in Function.__dict__:\n",
        "  print(i)  # Function.__dict__[i]"
      ],
      "metadata": {
        "colab": {
          "base_uri": "https://localhost:8080/"
        },
        "id": "JC3dHNZITm3f",
        "outputId": "6e8bba42-1339-4e6f-9226-aaed3bdb10fc"
      },
      "execution_count": 4,
      "outputs": [
        {
          "output_type": "stream",
          "name": "stdout",
          "text": [
            "__module__\n",
            "__doc__\n",
            "__init__\n",
            "__call__\n",
            "is_traceable\n",
            "generate_vmap_rule\n",
            "vmap\n",
            "apply\n",
            "_compiled_autograd_key\n",
            "_backward_cls\n",
            "__annotations__\n"
          ]
        }
      ]
    },
    {
      "cell_type": "code",
      "source": [
        "# 사용자 정의 클래스와 메소드 만들기\n",
        "class Exp(Function):\n",
        "  @staticmethod\n",
        "  def forward(ctx, i):\n",
        "    result = i.exp()\n",
        "    ctx.save_for_backward(result)\n",
        "    return result\n",
        "\n",
        "  @staticmethod\n",
        "  def backward(ctx, grad_output):\n",
        "    result, = ctx.saved_variables\n",
        "    return grad_output * result\n",
        "\n",
        "layer = Exp().apply\n",
        "print(layer)"
      ],
      "metadata": {
        "colab": {
          "base_uri": "https://localhost:8080/"
        },
        "id": "T42_P0edUWNw",
        "outputId": "9fbbbba1-3b3c-4e43-80e3-11e0b6528f8b"
      },
      "execution_count": 5,
      "outputs": [
        {
          "output_type": "stream",
          "name": "stdout",
          "text": [
            "<bound method Function.apply of <class '__main__.Exp'>>\n"
          ]
        },
        {
          "output_type": "stream",
          "name": "stderr",
          "text": [
            "<ipython-input-5-ad09c557ee4f>:14: DeprecationWarning: <class '__main__.Exp'> should not be instantiated. Methods on autograd functionsare all static, so you should invoke them on the class itself. Instantiating an autograd function will raise an error in a future version of PyTorch.\n",
            "  layer = Exp().apply\n"
          ]
        }
      ]
    },
    {
      "cell_type": "code",
      "source": [
        "a = Variable(torch.Tensor([1, 2]), requires_grad=True)\n",
        "output = layer(a)\n",
        "print(output)"
      ],
      "metadata": {
        "colab": {
          "base_uri": "https://localhost:8080/"
        },
        "id": "WCUl62inWKLE",
        "outputId": "f8c72cd8-b23f-47ca-aaab-68bbaae7106d"
      },
      "execution_count": 6,
      "outputs": [
        {
          "output_type": "stream",
          "name": "stdout",
          "text": [
            "tensor([2.7183, 7.3891], grad_fn=<ExpBackward>)\n"
          ]
        }
      ]
    },
    {
      "cell_type": "code",
      "source": [
        "result = torch.sum(output)\n",
        "print(result)"
      ],
      "metadata": {
        "colab": {
          "base_uri": "https://localhost:8080/"
        },
        "id": "PANuVK04WkpM",
        "outputId": "217a3964-9a40-47e4-92ac-58dba2cd0038"
      },
      "execution_count": 7,
      "outputs": [
        {
          "output_type": "stream",
          "name": "stdout",
          "text": [
            "tensor(10.1073, grad_fn=<SumBackward0>)\n"
          ]
        }
      ]
    },
    {
      "cell_type": "code",
      "source": [
        "print(a.grad)\n",
        "result.backward()\n",
        "print(a.grad)"
      ],
      "metadata": {
        "colab": {
          "base_uri": "https://localhost:8080/"
        },
        "id": "hhtIdykfWrNp",
        "outputId": "3cff9328-5d3e-4d26-dc64-dc56a0b878a0"
      },
      "execution_count": 8,
      "outputs": [
        {
          "output_type": "stream",
          "name": "stdout",
          "text": [
            "None\n",
            "tensor([2.7183, 7.3891])\n"
          ]
        },
        {
          "output_type": "stream",
          "name": "stderr",
          "text": [
            "<ipython-input-5-ad09c557ee4f>:11: DeprecationWarning: 'saved_variables' is deprecated; use 'saved_tensors'\n",
            "  result, = ctx.saved_variables\n"
          ]
        }
      ]
    }
  ]
}