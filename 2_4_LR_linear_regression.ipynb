{
  "nbformat": 4,
  "nbformat_minor": 0,
  "metadata": {
    "colab": {
      "provenance": [],
      "authorship_tag": "ABX9TyP9Mfr9cACvGocxmFWtQHeM",
      "include_colab_link": true
    },
    "kernelspec": {
      "name": "python3",
      "display_name": "Python 3"
    },
    "language_info": {
      "name": "python"
    }
  },
  "cells": [
    {
      "cell_type": "markdown",
      "metadata": {
        "id": "view-in-github",
        "colab_type": "text"
      },
      "source": [
        "<a href=\"https://colab.research.google.com/github/msj102525/study_python/blob/main/2_4_LR_linear_regression.ipynb\" target=\"_parent\"><img src=\"https://colab.research.google.com/assets/colab-badge.svg\" alt=\"Open In Colab\"/></a>"
      ]
    },
    {
      "cell_type": "markdown",
      "source": [
        "# **Linear Regression**\n",
        "- Linear Data\n",
        "- Linear Model\n",
        "\n",
        "**1. Import Requred Libraries**"
      ],
      "metadata": {
        "id": "aO5vmfDpMrTZ"
      }
    },
    {
      "cell_type": "code",
      "source": [
        "import numpy as np\n",
        "import torch\n",
        "import torch.nn as nn\n",
        "import torch.optim as optim\n",
        "import torch.nn.init as init\n",
        "from torch.autograd import Variable"
      ],
      "metadata": {
        "id": "13XWSTqgM3XI"
      },
      "execution_count": null,
      "outputs": []
    },
    {
      "cell_type": "markdown",
      "source": [
        "# **2. Generate Data**"
      ],
      "metadata": {
        "id": "ye2q-OVIN29w"
      }
    },
    {
      "cell_type": "code",
      "source": [
        "num_data = 1000 # 데이터 갯수\n",
        "num_epoch = 1000 # 훈련횟수\n",
        "\n",
        "noise = init.normal(torch.FloatTensor(num_data, 1), std=1)\n",
        "x = init.uniform(torch.Tensor(num_data, 1), -10, 10)\n",
        "\n",
        "# y = wx + b => y = 2x + 3\n",
        "y = 2 * x + 3\n",
        "y_noise = 2 * x + 3 + noise\n",
        "\n",
        "x.size(), y.size()"
      ],
      "metadata": {
        "colab": {
          "base_uri": "https://localhost:8080/"
        },
        "id": "aO84gzoRN8Ma",
        "outputId": "e1c1d45e-8064-4724-8250-10e885e6357e"
      },
      "execution_count": null,
      "outputs": [
        {
          "output_type": "stream",
          "name": "stderr",
          "text": [
            "<ipython-input-2-fe1da1e600e5>:4: UserWarning: nn.init.normal is now deprecated in favor of nn.init.normal_.\n",
            "  noise = init.normal(torch.FloatTensor(num_data, 1), std=1)\n",
            "<ipython-input-2-fe1da1e600e5>:5: UserWarning: nn.init.uniform is now deprecated in favor of nn.init.uniform_.\n",
            "  x = init.uniform(torch.Tensor(num_data, 1), -10, 10)\n"
          ]
        },
        {
          "output_type": "execute_result",
          "data": {
            "text/plain": [
              "(torch.Size([1000, 1]), torch.Size([1000, 1]))"
            ]
          },
          "metadata": {},
          "execution_count": 2
        }
      ]
    },
    {
      "cell_type": "markdown",
      "source": [
        "# **3. Model & Optimizer**"
      ],
      "metadata": {
        "id": "5HQr_CDGP0TR"
      }
    },
    {
      "cell_type": "code",
      "source": [
        "# 단순 선형 회귀 생성 및 초기화\n",
        "# input_dim=1, output_dim=1\n",
        "model = nn.Linear(1, 1)\n",
        "output = model(Variable(x))\n",
        "\n",
        "loss_func = nn.MSELoss()\n",
        "optimizer = optim.SGD(model.parameters(), lr=0.01)\n",
        "# lr (Learning Rate) : 미분값을 얼마만큼 이동시킬 것인지를 결정\n",
        "# 최적화 알고리즘 : loss 를 줄이는 알고리즘\n",
        "# SGD : loss 의 미분을 이용해서 loss 의 최소값을 찾는 알고리즘에 해당"
      ],
      "metadata": {
        "id": "Pd30FuAcP_PX"
      },
      "execution_count": null,
      "outputs": []
    },
    {
      "cell_type": "markdown",
      "source": [
        "# **4. Training**"
      ],
      "metadata": {
        "id": "r96rZKn4TZ_4"
      }
    },
    {
      "cell_type": "code",
      "source": [
        "loss_arr = []\n",
        "label = Variable(y_noise)\n",
        "for i in range(num_epoch):\n",
        "  optimizer.zero_grad()\n",
        "  output = model(Variable(x))\n",
        "\n",
        "  loss = loss_func(output, label)\n",
        "  optimizer.step()\n",
        "\n",
        "  if i % 10 == 0:\n",
        "    print(loss)\n",
        "\n",
        "  loss_arr.append(loss.data.numpy())"
      ],
      "metadata": {
        "colab": {
          "base_uri": "https://localhost:8080/"
        },
        "id": "v7iv3gaATeHM",
        "outputId": "ca7c53a3-b6f4-429d-e3c9-8b2e39a819a4"
      },
      "execution_count": null,
      "outputs": [
        {
          "output_type": "stream",
          "name": "stdout",
          "text": [
            "tensor(136.3104, grad_fn=<MseLossBackward0>)\n",
            "tensor(136.3104, grad_fn=<MseLossBackward0>)\n",
            "tensor(136.3104, grad_fn=<MseLossBackward0>)\n",
            "tensor(136.3104, grad_fn=<MseLossBackward0>)\n",
            "tensor(136.3104, grad_fn=<MseLossBackward0>)\n",
            "tensor(136.3104, grad_fn=<MseLossBackward0>)\n",
            "tensor(136.3104, grad_fn=<MseLossBackward0>)\n",
            "tensor(136.3104, grad_fn=<MseLossBackward0>)\n",
            "tensor(136.3104, grad_fn=<MseLossBackward0>)\n",
            "tensor(136.3104, grad_fn=<MseLossBackward0>)\n",
            "tensor(136.3104, grad_fn=<MseLossBackward0>)\n",
            "tensor(136.3104, grad_fn=<MseLossBackward0>)\n",
            "tensor(136.3104, grad_fn=<MseLossBackward0>)\n",
            "tensor(136.3104, grad_fn=<MseLossBackward0>)\n",
            "tensor(136.3104, grad_fn=<MseLossBackward0>)\n",
            "tensor(136.3104, grad_fn=<MseLossBackward0>)\n",
            "tensor(136.3104, grad_fn=<MseLossBackward0>)\n",
            "tensor(136.3104, grad_fn=<MseLossBackward0>)\n",
            "tensor(136.3104, grad_fn=<MseLossBackward0>)\n",
            "tensor(136.3104, grad_fn=<MseLossBackward0>)\n",
            "tensor(136.3104, grad_fn=<MseLossBackward0>)\n",
            "tensor(136.3104, grad_fn=<MseLossBackward0>)\n",
            "tensor(136.3104, grad_fn=<MseLossBackward0>)\n",
            "tensor(136.3104, grad_fn=<MseLossBackward0>)\n",
            "tensor(136.3104, grad_fn=<MseLossBackward0>)\n",
            "tensor(136.3104, grad_fn=<MseLossBackward0>)\n",
            "tensor(136.3104, grad_fn=<MseLossBackward0>)\n",
            "tensor(136.3104, grad_fn=<MseLossBackward0>)\n",
            "tensor(136.3104, grad_fn=<MseLossBackward0>)\n",
            "tensor(136.3104, grad_fn=<MseLossBackward0>)\n",
            "tensor(136.3104, grad_fn=<MseLossBackward0>)\n",
            "tensor(136.3104, grad_fn=<MseLossBackward0>)\n",
            "tensor(136.3104, grad_fn=<MseLossBackward0>)\n",
            "tensor(136.3104, grad_fn=<MseLossBackward0>)\n",
            "tensor(136.3104, grad_fn=<MseLossBackward0>)\n",
            "tensor(136.3104, grad_fn=<MseLossBackward0>)\n",
            "tensor(136.3104, grad_fn=<MseLossBackward0>)\n",
            "tensor(136.3104, grad_fn=<MseLossBackward0>)\n",
            "tensor(136.3104, grad_fn=<MseLossBackward0>)\n",
            "tensor(136.3104, grad_fn=<MseLossBackward0>)\n",
            "tensor(136.3104, grad_fn=<MseLossBackward0>)\n",
            "tensor(136.3104, grad_fn=<MseLossBackward0>)\n",
            "tensor(136.3104, grad_fn=<MseLossBackward0>)\n",
            "tensor(136.3104, grad_fn=<MseLossBackward0>)\n",
            "tensor(136.3104, grad_fn=<MseLossBackward0>)\n",
            "tensor(136.3104, grad_fn=<MseLossBackward0>)\n",
            "tensor(136.3104, grad_fn=<MseLossBackward0>)\n",
            "tensor(136.3104, grad_fn=<MseLossBackward0>)\n",
            "tensor(136.3104, grad_fn=<MseLossBackward0>)\n",
            "tensor(136.3104, grad_fn=<MseLossBackward0>)\n",
            "tensor(136.3104, grad_fn=<MseLossBackward0>)\n",
            "tensor(136.3104, grad_fn=<MseLossBackward0>)\n",
            "tensor(136.3104, grad_fn=<MseLossBackward0>)\n",
            "tensor(136.3104, grad_fn=<MseLossBackward0>)\n",
            "tensor(136.3104, grad_fn=<MseLossBackward0>)\n",
            "tensor(136.3104, grad_fn=<MseLossBackward0>)\n",
            "tensor(136.3104, grad_fn=<MseLossBackward0>)\n",
            "tensor(136.3104, grad_fn=<MseLossBackward0>)\n",
            "tensor(136.3104, grad_fn=<MseLossBackward0>)\n",
            "tensor(136.3104, grad_fn=<MseLossBackward0>)\n",
            "tensor(136.3104, grad_fn=<MseLossBackward0>)\n",
            "tensor(136.3104, grad_fn=<MseLossBackward0>)\n",
            "tensor(136.3104, grad_fn=<MseLossBackward0>)\n",
            "tensor(136.3104, grad_fn=<MseLossBackward0>)\n",
            "tensor(136.3104, grad_fn=<MseLossBackward0>)\n",
            "tensor(136.3104, grad_fn=<MseLossBackward0>)\n",
            "tensor(136.3104, grad_fn=<MseLossBackward0>)\n",
            "tensor(136.3104, grad_fn=<MseLossBackward0>)\n",
            "tensor(136.3104, grad_fn=<MseLossBackward0>)\n",
            "tensor(136.3104, grad_fn=<MseLossBackward0>)\n",
            "tensor(136.3104, grad_fn=<MseLossBackward0>)\n",
            "tensor(136.3104, grad_fn=<MseLossBackward0>)\n",
            "tensor(136.3104, grad_fn=<MseLossBackward0>)\n",
            "tensor(136.3104, grad_fn=<MseLossBackward0>)\n",
            "tensor(136.3104, grad_fn=<MseLossBackward0>)\n",
            "tensor(136.3104, grad_fn=<MseLossBackward0>)\n",
            "tensor(136.3104, grad_fn=<MseLossBackward0>)\n",
            "tensor(136.3104, grad_fn=<MseLossBackward0>)\n",
            "tensor(136.3104, grad_fn=<MseLossBackward0>)\n",
            "tensor(136.3104, grad_fn=<MseLossBackward0>)\n",
            "tensor(136.3104, grad_fn=<MseLossBackward0>)\n",
            "tensor(136.3104, grad_fn=<MseLossBackward0>)\n",
            "tensor(136.3104, grad_fn=<MseLossBackward0>)\n",
            "tensor(136.3104, grad_fn=<MseLossBackward0>)\n",
            "tensor(136.3104, grad_fn=<MseLossBackward0>)\n",
            "tensor(136.3104, grad_fn=<MseLossBackward0>)\n",
            "tensor(136.3104, grad_fn=<MseLossBackward0>)\n",
            "tensor(136.3104, grad_fn=<MseLossBackward0>)\n",
            "tensor(136.3104, grad_fn=<MseLossBackward0>)\n",
            "tensor(136.3104, grad_fn=<MseLossBackward0>)\n",
            "tensor(136.3104, grad_fn=<MseLossBackward0>)\n",
            "tensor(136.3104, grad_fn=<MseLossBackward0>)\n",
            "tensor(136.3104, grad_fn=<MseLossBackward0>)\n",
            "tensor(136.3104, grad_fn=<MseLossBackward0>)\n",
            "tensor(136.3104, grad_fn=<MseLossBackward0>)\n",
            "tensor(136.3104, grad_fn=<MseLossBackward0>)\n",
            "tensor(136.3104, grad_fn=<MseLossBackward0>)\n",
            "tensor(136.3104, grad_fn=<MseLossBackward0>)\n",
            "tensor(136.3104, grad_fn=<MseLossBackward0>)\n",
            "tensor(136.3104, grad_fn=<MseLossBackward0>)\n"
          ]
        }
      ]
    },
    {
      "cell_type": "markdown",
      "source": [
        "# **visdom usage**"
      ],
      "metadata": {
        "id": "qxjUSLw7YGvp"
      }
    },
    {
      "cell_type": "code",
      "source": [
        "! pip3 install visdom\n",
        "\n",
        "! npm install -g localtunnel\n",
        "get_ipython().system_raw('/usr/local/bin/python -m pip install visdom')\n",
        "get_ipython().system_raw('/usr/local/bin/python -m visdom.server -port 6006 >> visdomlog.txt 2>&1 &')\n",
        "get_ipython().system_raw('lt --port 6006 >> url.txt 2>&1 &')\n",
        "\n",
        "import time\n",
        "time.sleep(5)\n",
        "! cat url.txt\n",
        "\n",
        "import visdom\n",
        "time.sleep(5)\n",
        "vis = visdom.Visdom(port='6006')\n",
        "print(vis)\n",
        "time.sleep(3)\n",
        "vis.text('testing')\n",
        "! cat visdomlog.txt\n",
        "# 아래 출력 메세지의 Your url is 부분의 url 클릭함\n",
        "# 나타난 웹 페이지의 'click countinue' 버튼 클릭함"
      ],
      "metadata": {
        "colab": {
          "base_uri": "https://localhost:8080/"
        },
        "id": "hlTWdgkGYLXo",
        "outputId": "a56eaa34-966b-4e27-ce05-c5ab8d30bb17"
      },
      "execution_count": null,
      "outputs": [
        {
          "output_type": "stream",
          "name": "stdout",
          "text": [
            "Requirement already satisfied: visdom in /usr/local/lib/python3.10/dist-packages (0.2.4)\n",
            "Requirement already satisfied: numpy>=1.8 in /usr/local/lib/python3.10/dist-packages (from visdom) (1.25.2)\n",
            "Requirement already satisfied: scipy in /usr/local/lib/python3.10/dist-packages (from visdom) (1.11.4)\n",
            "Requirement already satisfied: requests in /usr/local/lib/python3.10/dist-packages (from visdom) (2.31.0)\n",
            "Requirement already satisfied: tornado in /usr/local/lib/python3.10/dist-packages (from visdom) (6.3.3)\n",
            "Requirement already satisfied: six in /usr/local/lib/python3.10/dist-packages (from visdom) (1.16.0)\n",
            "Requirement already satisfied: jsonpatch in /usr/local/lib/python3.10/dist-packages (from visdom) (1.33)\n",
            "Requirement already satisfied: websocket-client in /usr/local/lib/python3.10/dist-packages (from visdom) (1.8.0)\n",
            "Requirement already satisfied: networkx in /usr/local/lib/python3.10/dist-packages (from visdom) (3.3)\n",
            "Requirement already satisfied: pillow in /usr/local/lib/python3.10/dist-packages (from visdom) (9.4.0)\n",
            "Requirement already satisfied: jsonpointer>=1.9 in /usr/local/lib/python3.10/dist-packages (from jsonpatch->visdom) (2.4)\n",
            "Requirement already satisfied: charset-normalizer<4,>=2 in /usr/local/lib/python3.10/dist-packages (from requests->visdom) (3.3.2)\n",
            "Requirement already satisfied: idna<4,>=2.5 in /usr/local/lib/python3.10/dist-packages (from requests->visdom) (3.7)\n",
            "Requirement already satisfied: urllib3<3,>=1.21.1 in /usr/local/lib/python3.10/dist-packages (from requests->visdom) (2.0.7)\n",
            "Requirement already satisfied: certifi>=2017.4.17 in /usr/local/lib/python3.10/dist-packages (from requests->visdom) (2024.2.2)\n",
            "\u001b[K\u001b[?25h/tools/node/bin/lt -> /tools/node/lib/node_modules/localtunnel/bin/lt.js\n",
            "+ localtunnel@2.0.2\n",
            "updated 1 package in 0.777s\n",
            "your url is: https://nasty-ants-drive.loca.lt\n",
            "your url is: https://tall-meals-mate.loca.lt\n",
            "your url is: https://wet-mirrors-glow.loca.lt\n",
            "your url is: https://nice-games-happen.loca.lt\n"
          ]
        },
        {
          "output_type": "stream",
          "name": "stderr",
          "text": [
            "WARNING:visdom:Setting up a new session...\n"
          ]
        },
        {
          "output_type": "stream",
          "name": "stdout",
          "text": [
            "<visdom.Visdom object at 0x7d7681391f00>\n",
            "INFO:root:Application Started\n",
            "INFO:root:Working directory: /root/.visdom\n",
            "Traceback (most recent call last):\n",
            "  File \"/usr/lib/python3.10/runpy.py\", line 196, in _run_module_as_main\n",
            "    return _run_code(code, main_globals, None,\n",
            "  File \"/usr/lib/python3.10/runpy.py\", line 86, in _run_code\n",
            "    exec(code, run_globals)\n",
            "  File \"/usr/local/lib/python3.10/dist-packages/visdom/server/__main__.py\", line 16, in <module>\n",
            "    download_scripts_and_run()\n",
            "  File \"/usr/local/lib/python3.10/dist-packages/visdom/server/run_server.py\", line 236, in download_scripts_and_run\n",
            "    main()\n",
            "  File \"/usr/local/lib/python3.10/dist-packages/visdom/server/run_server.py\", line 220, in main\n",
            "    start_server(\n",
            "  File \"/usr/local/lib/python3.10/dist-packages/visdom/server/run_server.py\", line 55, in start_server\n",
            "    app.listen(port, max_buffer_size=1024**3)\n",
            "  File \"/usr/local/lib/python3.10/dist-packages/tornado/web.py\", line 2207, in listen\n",
            "    server.listen(\n",
            "  File \"/usr/local/lib/python3.10/dist-packages/tornado/tcpserver.py\", line 183, in listen\n",
            "    sockets = bind_sockets(\n",
            "  File \"/usr/local/lib/python3.10/dist-packages/tornado/netutil.py\", line 162, in bind_sockets\n",
            "    sock.bind(sockaddr)\n",
            "OSError: [Errno 98] Address already in use\n",
            "Checking for scripts.\n",
            "It's Alive!\n",
            "Traceback (most recent call last):\n",
            "  File \"/usr/lib/python3.10/runpy.py\", line 196, in _run_module_as_main\n",
            "    return _run_code(code, main_globals, None,\n",
            "  File \"/usr/lib/python3.10/runpy.py\", line 86, in _run_code\n",
            "    exec(code, run_globals)\n",
            "  File \"/usr/local/lib/python3.10/dist-packages/visdom/server/__main__.py\", line 16, in <module>\n",
            "    download_scripts_and_run()\n",
            "  File \"/usr/local/lib/python3.10/dist-packages/visdom/server/run_server.py\", line 236, in download_scripts_and_run\n",
            "    main()\n",
            "  File \"/usr/local/lib/python3.10/dist-packages/visdom/server/run_server.py\", line 220, in main\n",
            "    start_server(\n",
            "  File \"/usr/local/lib/python3.10/dist-packages/visdom/server/run_server.py\", line 55, in start_server\n",
            "    app.listen(port, max_buffer_size=1024**3)\n",
            "  File \"/usr/local/lib/python3.10/dist-packages/tornado/web.py\", line 2207, in listen\n",
            "    server.listen(\n",
            "  File \"/usr/local/lib/python3.10/dist-packages/tornado/tcpserver.py\", line 183, in listen\n",
            "    sockets = bind_sockets(\n",
            "  File \"/usr/local/lib/python3.10/dist-packages/tornado/netutil.py\", line 162, in bind_sockets\n",
            "    sock.bind(sockaddr)\n",
            "OSError: [Errno 98] Address already in use\n",
            "Checking for scripts.\n",
            "It's Alive!\n",
            "Traceback (most recent call last):\n",
            "  File \"/usr/lib/python3.10/runpy.py\", line 196, in _run_module_as_main\n",
            "    return _run_code(code, main_globals, None,\n",
            "  File \"/usr/lib/python3.10/runpy.py\", line 86, in _run_code\n",
            "    exec(code, run_globals)\n",
            "  File \"/usr/local/lib/python3.10/dist-packages/visdom/server/__main__.py\", line 16, in <module>\n",
            "    download_scripts_and_run()\n",
            "  File \"/usr/local/lib/python3.10/dist-packages/visdom/server/run_server.py\", line 236, in download_scripts_and_run\n",
            "    main()\n",
            "  File \"/usr/local/lib/python3.10/dist-packages/visdom/server/run_server.py\", line 220, in main\n",
            "    start_server(\n",
            "  File \"/usr/local/lib/python3.10/dist-packages/visdom/server/run_server.py\", line 55, in start_server\n",
            "    app.listen(port, max_buffer_size=1024**3)\n",
            "  File \"/usr/local/lib/python3.10/dist-packages/tornado/web.py\", line 2207, in listen\n",
            "    server.listen(\n",
            "  File \"/usr/local/lib/python3.10/dist-packages/tornado/tcpserver.py\", line 183, in listen\n",
            "    sockets = bind_sockets(\n",
            "  File \"/usr/local/lib/python3.10/dist-packages/tornado/netutil.py\", line 162, in bind_sockets\n",
            "    sock.bind(sockaddr)\n",
            "OSError: [Errno 98] Address already in use\n",
            "Checking for scripts.\n",
            "It's Alive!\n",
            "INFO:tornado.access:200 POST /env/main (127.0.0.1) 0.95ms\n",
            "INFO:tornado.access:101 GET /vis_socket (127.0.0.1) 0.94ms\n",
            "INFO:root:Opened visdom socket from ip: 127.0.0.1\n",
            "INFO:tornado.access:200 POST /events (127.0.0.1) 0.69ms\n"
          ]
        }
      ]
    },
    {
      "cell_type": "code",
      "source": [
        "import urllib\n",
        "print(\"Password/Enpoint IP for localtunnel is:\",urllib.request.urlopen('https://ipv4.icanhazip.com').read().decode('utf8').strip(\"\\n\"))"
      ],
      "metadata": {
        "colab": {
          "base_uri": "https://localhost:8080/"
        },
        "id": "7HLP5pLDZKL6",
        "outputId": "49800460-f435-4609-ba78-f46ab5a42c13"
      },
      "execution_count": null,
      "outputs": [
        {
          "output_type": "stream",
          "name": "stdout",
          "text": [
            "Password/Enpoint IP for localtunnel is: 34.72.176.185\n"
          ]
        }
      ]
    },
    {
      "cell_type": "code",
      "source": [
        "textwindow = vis.text(\"Hello Pytorch\")\n",
        "textwindow"
      ],
      "metadata": {
        "colab": {
          "base_uri": "https://localhost:8080/",
          "height": 35
        },
        "id": "OojFsUvGbneC",
        "outputId": "a8bc3f83-f400-47e2-ccc0-c72ff1cb3f6a"
      },
      "execution_count": null,
      "outputs": [
        {
          "output_type": "execute_result",
          "data": {
            "text/plain": [
              "'window_3d005e597252c0'"
            ],
            "application/vnd.google.colaboratory.intrinsic+json": {
              "type": "string"
            }
          },
          "metadata": {},
          "execution_count": 15
        }
      ]
    }
  ]
}