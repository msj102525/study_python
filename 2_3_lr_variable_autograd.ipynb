{
  "nbformat": 4,
  "nbformat_minor": 0,
  "metadata": {
    "colab": {
      "provenance": [],
      "gpuType": "T4",
      "authorship_tag": "ABX9TyPHr0wARxfw2QWz+ZmlFvaz",
      "include_colab_link": true
    },
    "kernelspec": {
      "name": "python3",
      "display_name": "Python 3"
    },
    "language_info": {
      "name": "python"
    },
    "accelerator": "GPU"
  },
  "cells": [
    {
      "cell_type": "markdown",
      "metadata": {
        "id": "view-in-github",
        "colab_type": "text"
      },
      "source": [
        "<a href=\"https://colab.research.google.com/github/msj102525/study_python/blob/main/2_3_lr_variable_autograd.ipynb\" target=\"_parent\"><img src=\"https://colab.research.google.com/assets/colab-badge.svg\" alt=\"Open In Colab\"/></a>"
      ]
    },
    {
      "cell_type": "markdown",
      "source": [
        "# **1. import required libraries**"
      ],
      "metadata": {
        "id": "HPrXXMYO9y_Q"
      }
    },
    {
      "cell_type": "code",
      "source": [
        "import torch\n",
        "from torch.autograd import Variable"
      ],
      "metadata": {
        "id": "T9Msa-_5-ej-"
      },
      "execution_count": 2,
      "outputs": []
    },
    {
      "cell_type": "markdown",
      "source": [
        "# **2.Tensor vs Variable**\n",
        "**1) Declaration**"
      ],
      "metadata": {
        "id": "z15VgbaA-byg"
      }
    },
    {
      "cell_type": "code",
      "source": [
        "x_tensor = torch.Tensor(3, 4)\n",
        "x_tensor"
      ],
      "metadata": {
        "colab": {
          "base_uri": "https://localhost:8080/"
        },
        "id": "I8LtK1_5-zi_",
        "outputId": "7b7dad52-46c0-4c00-ab73-a6ac5c67ec15"
      },
      "execution_count": 3,
      "outputs": [
        {
          "output_type": "execute_result",
          "data": {
            "text/plain": [
              "tensor([[-6.4202e-35,  4.3400e-41, -6.4202e-35,  4.3400e-41],\n",
              "        [-6.4201e-35,  4.3400e-41, -6.4201e-35,  4.3400e-41],\n",
              "        [ 0.0000e+00,  0.0000e+00,  0.0000e+00,  0.0000e+00]])"
            ]
          },
          "metadata": {},
          "execution_count": 3
        }
      ]
    },
    {
      "cell_type": "code",
      "source": [
        "x_variable = Variable(x_tensor)\n",
        "x_variable"
      ],
      "metadata": {
        "colab": {
          "base_uri": "https://localhost:8080/"
        },
        "id": "ku-cKaAB_Dxu",
        "outputId": "2e8df46d-a624-4fa5-bf50-5da3776c63d8"
      },
      "execution_count": 4,
      "outputs": [
        {
          "output_type": "execute_result",
          "data": {
            "text/plain": [
              "tensor([[-6.4202e-35,  4.3400e-41, -6.4202e-35,  4.3400e-41],\n",
              "        [-6.4201e-35,  4.3400e-41, -6.4201e-35,  4.3400e-41],\n",
              "        [ 0.0000e+00,  0.0000e+00,  0.0000e+00,  0.0000e+00]])"
            ]
          },
          "metadata": {},
          "execution_count": 4
        }
      ]
    },
    {
      "cell_type": "markdown",
      "source": [
        "Variable 은 autogradient 가능함 \\\n",
        "Pytorch 0.4 이상 버전에서는 Tensor 에 Variable 이 통합되고, Variable 은 deprecated \\\n",
        "Tensor 만 사용\n",
        "\n",
        "2) Variable of a Variable"
      ],
      "metadata": {
        "id": "2ywSGhkf_lFG"
      }
    },
    {
      "cell_type": "code",
      "source": [
        "# data 속성\n",
        "x_variable.data"
      ],
      "metadata": {
        "colab": {
          "base_uri": "https://localhost:8080/"
        },
        "id": "GIHPChABAjVA",
        "outputId": "4021ebf8-18ee-4445-dde2-05f8fea8fe8c"
      },
      "execution_count": 5,
      "outputs": [
        {
          "output_type": "execute_result",
          "data": {
            "text/plain": [
              "tensor([[-6.4202e-35,  4.3400e-41, -6.4202e-35,  4.3400e-41],\n",
              "        [-6.4201e-35,  4.3400e-41, -6.4201e-35,  4.3400e-41],\n",
              "        [ 0.0000e+00,  0.0000e+00,  0.0000e+00,  0.0000e+00]])"
            ]
          },
          "metadata": {},
          "execution_count": 5
        }
      ]
    },
    {
      "cell_type": "code",
      "source": [
        "# grad 속성 : 값에 대한 gradient\n",
        "# Variable 생성시 초기화되면서, gradient 도 같이 정의\n",
        "print(x_variable.grad)  # None"
      ],
      "metadata": {
        "colab": {
          "base_uri": "https://localhost:8080/"
        },
        "id": "lHHCEa2yAvdn",
        "outputId": "5ddf4584-6f05-4b57-f707-7a5ecdae3b81"
      },
      "execution_count": 6,
      "outputs": [
        {
          "output_type": "stream",
          "name": "stdout",
          "text": [
            "None\n"
          ]
        }
      ]
    },
    {
      "cell_type": "code",
      "source": [
        "# requires_grad 속성 : 값에 대한 gradient 요구시 사용함\n",
        "print(x_variable.requires_grad) # False\n",
        "# gradient 가 계산이 안된 상태임임"
      ],
      "metadata": {
        "colab": {
          "base_uri": "https://localhost:8080/"
        },
        "id": "Ba7iOxjcBXCF",
        "outputId": "a0faa325-063f-4e5b-f477-791a6c367094"
      },
      "execution_count": 7,
      "outputs": [
        {
          "output_type": "stream",
          "name": "stdout",
          "text": [
            "False\n"
          ]
        }
      ]
    },
    {
      "cell_type": "code",
      "source": [
        "# gradient 에 대한 연산을 수행하게 함 : True\n",
        "x_variable = Variable(x_tensor, requires_grad=True)\n",
        "x_variable.requires_grad"
      ],
      "metadata": {
        "colab": {
          "base_uri": "https://localhost:8080/"
        },
        "id": "rZHVYyX1CRSP",
        "outputId": "0f2d2dd0-b09c-4a60-aa37-28954a5045e7"
      },
      "execution_count": 10,
      "outputs": [
        {
          "output_type": "execute_result",
          "data": {
            "text/plain": [
              "True"
            ]
          },
          "metadata": {},
          "execution_count": 10
        }
      ]
    },
    {
      "cell_type": "code",
      "source": [
        "# volatile 속성 : 최소 메모리 사용에 대한 설정\n",
        "# requires_grad 가 False 이면, volatile 도 자동 False 가 됨\n",
        "x_variable = Variable(x_tensor, volatile=True)\n",
        "x_variable.grad, x_variable.requires_grad, x_variable.volatile"
      ],
      "metadata": {
        "colab": {
          "base_uri": "https://localhost:8080/"
        },
        "id": "JodiewD6CuKU",
        "outputId": "d0c64f69-4cf1-4a56-a76e-f0827e69e37c"
      },
      "execution_count": 11,
      "outputs": [
        {
          "output_type": "stream",
          "name": "stderr",
          "text": [
            "<ipython-input-11-6cd144ec761a>:3: UserWarning: volatile was removed and now has no effect. Use `with torch.no_grad():` instead.\n",
            "  x_variable = Variable(x_tensor, volatile=True)\n",
            "<ipython-input-11-6cd144ec761a>:4: UserWarning: volatile was removed (Variable.volatile is always False)\n",
            "  x_variable.grad, x_variable.requires_grad, x_variable.volatile\n"
          ]
        },
        {
          "output_type": "execute_result",
          "data": {
            "text/plain": [
              "(None, False, False)"
            ]
          },
          "metadata": {},
          "execution_count": 11
        }
      ]
    },
    {
      "cell_type": "markdown",
      "source": [
        "# **3. Graph & Variables**"
      ],
      "metadata": {
        "id": "XsG4vcchD21Y"
      }
    },
    {
      "cell_type": "code",
      "source": [
        "# create graph\n",
        "x = Variable(torch.FloatTensor(3, 4), requires_grad=True)\n",
        "y = x**2 + 4*x\n",
        "z = 2*y + 3\n",
        "\n",
        "x.requires_grad, y.requires_grad ,z.requires_grad"
      ],
      "metadata": {
        "colab": {
          "base_uri": "https://localhost:8080/"
        },
        "id": "e3Wd9IVmEAwA",
        "outputId": "eb982ba5-3f56-4cd9-f094-0056e223f994"
      },
      "execution_count": 15,
      "outputs": [
        {
          "output_type": "execute_result",
          "data": {
            "text/plain": [
              "(True, True, True)"
            ]
          },
          "metadata": {},
          "execution_count": 15
        }
      ]
    },
    {
      "cell_type": "markdown",
      "source": [
        "backward(gradient, retain_graph, create_graph, retain_variables) \\\n",
        "현재 값 w, r, t, graph 에 대한 gradient 계산 함수임 \\\n",
        "역전파 알고리즘 적용된 계산함수임"
      ],
      "metadata": {
        "id": "NnKFJoBzFHXw"
      }
    },
    {
      "cell_type": "code",
      "source": [
        "# 위의 z 값으로 x 의 gradient 를 계산해 냄\n",
        "loss = torch.FloatTensor(3, 4)\n",
        "z.backward(loss)\n",
        "\n",
        "print(x.grad)\n",
        "y.grad, z.grad"
      ],
      "metadata": {
        "colab": {
          "base_uri": "https://localhost:8080/"
        },
        "id": "DyqM67fUFz14",
        "outputId": "366e71ac-48f2-4d1f-ca3a-0d06e3389bed"
      },
      "execution_count": 16,
      "outputs": [
        {
          "output_type": "stream",
          "name": "stdout",
          "text": [
            "tensor([[-5.1361e-34,  3.4720e-40, -5.1361e-34,  3.4720e-40],\n",
            "        [ 0.0000e+00,  0.0000e+00,  0.0000e+00,  0.0000e+00],\n",
            "        [ 0.0000e+00,  0.0000e+00,  0.0000e+00,  0.0000e+00]])\n"
          ]
        },
        {
          "output_type": "stream",
          "name": "stderr",
          "text": [
            "<ipython-input-16-1e201076fae7>:6: UserWarning: The .grad attribute of a Tensor that is not a leaf Tensor is being accessed. Its .grad attribute won't be populated during autograd.backward(). If you indeed want the .grad field to be populated for a non-leaf Tensor, use .retain_grad() on the non-leaf Tensor. If you access the non-leaf Tensor by mistake, make sure you access the leaf Tensor instead. See github.com/pytorch/pytorch/pull/30531 for more informations. (Triggered internally at aten/src/ATen/core/TensorBody.h:489.)\n",
            "  y.grad, z.grad\n"
          ]
        },
        {
          "output_type": "execute_result",
          "data": {
            "text/plain": [
              "(None, None)"
            ]
          },
          "metadata": {},
          "execution_count": 16
        }
      ]
    }
  ]
}