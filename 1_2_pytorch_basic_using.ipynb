{
  "nbformat": 4,
  "nbformat_minor": 0,
  "metadata": {
    "colab": {
      "provenance": [],
      "gpuType": "T4",
      "authorship_tag": "ABX9TyMK9GSvhs1tGjQ0ejw8MDGO",
      "include_colab_link": true
    },
    "kernelspec": {
      "name": "python3",
      "display_name": "Python 3"
    },
    "language_info": {
      "name": "python"
    },
    "accelerator": "GPU"
  },
  "cells": [
    {
      "cell_type": "markdown",
      "metadata": {
        "id": "view-in-github",
        "colab_type": "text"
      },
      "source": [
        "<a href=\"https://colab.research.google.com/github/msj102525/study_python/blob/main/1_2_pytorch_basic_using.ipynb\" target=\"_parent\"><img src=\"https://colab.research.google.com/assets/colab-badge.svg\" alt=\"Open In Colab\"/></a>"
      ]
    },
    {
      "cell_type": "markdown",
      "source": [
        "# Pytorch Tensor Basic Usage\n",
        "\n",
        "- Create Tensor\n",
        "- indexing, Joining, Slicing\n",
        "- Initialization\n",
        "- Math Operations"
      ],
      "metadata": {
        "id": "pD6_fsxqWXOm"
      }
    },
    {
      "cell_type": "code",
      "execution_count": 4,
      "metadata": {
        "colab": {
          "base_uri": "https://localhost:8080/"
        },
        "id": "Yhhtr7L2V_YK",
        "outputId": "c17575a6-0cfb-4187-98ee-353f044766bc"
      },
      "outputs": [
        {
          "output_type": "execute_result",
          "data": {
            "text/plain": [
              "tensor([[0.8219, 0.9272, 0.5680],\n",
              "        [0.7273, 0.1524, 0.8585]])"
            ]
          },
          "metadata": {},
          "execution_count": 4
        }
      ],
      "source": [
        "# 1. Create Tensor\n",
        "# 1) random numbers\n",
        "import torch\n",
        "\n",
        "# torch.rand(sizes) --> (0, 1) 사이의 실수형 값을 랜덤값으로 발생함\n",
        "# sizes : 1차원갯수, 2차원 행렬갯수 등 지정\n",
        "# 0과 1사이의 실수형 숫자를 균등하게 생성\n",
        "x = torch.rand(2, 3)\n",
        "x\n"
      ]
    },
    {
      "cell_type": "code",
      "source": [
        "# torch.randn(sizes) --> Z(0, 1)\n",
        "# 평균이 0이고 표준편차가 1인 가우시안 정규분포를 이용해서 생성\n",
        "x = torch.randn(2, 3)\n",
        "x"
      ],
      "metadata": {
        "colab": {
          "base_uri": "https://localhost:8080/"
        },
        "id": "L_gXMVEDYabN",
        "outputId": "4028205a-dacc-46dd-c824-92f676f70c08"
      },
      "execution_count": 24,
      "outputs": [
        {
          "output_type": "execute_result",
          "data": {
            "text/plain": [
              "tensor([[ 0.8167,  0.3060, -1.3034],\n",
              "        [ 0.7403, -2.2853, -1.6381]])"
            ]
          },
          "metadata": {},
          "execution_count": 24
        }
      ]
    },
    {
      "cell_type": "code",
      "source": [
        "# torch.randperm(n) --> permutation of 0 ~ n\n",
        "x = torch.randperm(5)\n",
        "x"
      ],
      "metadata": {
        "colab": {
          "base_uri": "https://localhost:8080/"
        },
        "id": "jQdsWza7ZBTm",
        "outputId": "4d109800-5ff3-4692-9e06-ecce6ef79dd6"
      },
      "execution_count": 19,
      "outputs": [
        {
          "output_type": "execute_result",
          "data": {
            "text/plain": [
              "tensor([2, 1, 4, 0, 3])"
            ]
          },
          "metadata": {},
          "execution_count": 19
        }
      ]
    },
    {
      "cell_type": "markdown",
      "source": [
        "# ** torch 에서 랜덤값으로 텐서 생성 **\n",
        "1. torch.rand() : 0과 1사이의 숫자를 균등하게 생성\n",
        "2. torch.rand_like() : 사이즈를 튜플로 입력하지 않고 기존의 텐서로 정의\n",
        "3. torch.randn() : 평균이 0이고 표준편차가 1인 가우시안 정규분포를 이용해서 생성\n",
        "4. torch.randn_like() : 기존의 텐서를 사용해서 같은 텐서를 생성\n",
        "5. torch.randint() : 주어진 범위 내의 정수를 균등하게 생성하는 함\n",
        "6. torch.randint_like() : 텐서 이용, 같은 텐서 생성\n",
        "7. torch.randperm() : 주어진 범위 내의 정수를 랜덤하게 생성"
      ],
      "metadata": {
        "id": "EtySLNpOZju1"
      }
    }
  ]
}